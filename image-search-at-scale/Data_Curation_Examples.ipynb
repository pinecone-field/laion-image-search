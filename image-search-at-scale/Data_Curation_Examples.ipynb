{
  "cells": [
    {
      "cell_type": "markdown",
      "metadata": {
        "id": "aSJeWiFe5npI"
      },
      "source": [
        "#Advanced Vector Search with Pinecone and CLIP Models"
      ]
    },
    {
      "cell_type": "markdown",
      "metadata": {
        "id": "30msQxFA6U8r"
      },
      "source": [
        "This Notebook provides a detailed demonstration of using Pinecone to manage a large-scale vector database and utilizing CLIP models for executing sophisticated image and text searches.\n",
        "#Getting Started\n",
        "**Prerequisites:**\n",
        "\n",
        "\n",
        "*   Python 3.6+\n",
        "*   Google Colab, Jupyter Notebook, or JupyterLab\n",
        "*   Installation of required Python libraries such as pinecone-client, transformers, and torch\n",
        "\n",
        "#Configuration\n",
        "Ensure you have your Pinecone API key available. You can obtain one from Pinecone. Set up your environment variables or modify the notebook to include your API key where necessary.\n",
        "\n",
        "#Usage\n",
        "Open the notebook in Google Colab, Jupyter Notebook or JupyterLab. Follow the step-by-step instructions within the notebook to connect to Pinecone, select the appropriate CLIP model, and perform searches. The notebook includes comments and guidelines to help you understand each step.\n",
        "\n",
        "#Features\n",
        "\n",
        "\n",
        "*   Vector Database Connection: Connect to a scalable Pinecone database.\n",
        "*   CLIP Model Integration: Utilize CLIP models for converting images and text into vectors.\n",
        "*   Interactive Search: Conduct searches using a simple user interface within the notebook.\n",
        "*   Results Visualization: View the outcomes of your searches directly in the notebook.\n",
        "\n",
        "\n",
        "\n",
        "\n",
        "\n"
      ]
    },
    {
      "cell_type": "markdown",
      "metadata": {
        "id": "h1pRcj7RVF6N"
      },
      "source": [
        "#General Imports for Demo\n"
      ]
    },
    {
      "cell_type": "markdown",
      "metadata": {
        "id": "tNHWZhF-xOPc"
      },
      "source": [
        "Installs"
      ]
    },
    {
      "cell_type": "code",
      "execution_count": 2,
      "metadata": {
        "colab": {
          "base_uri": "https://localhost:8080/"
        },
        "id": "3cjq4xGUWbB3",
        "outputId": "ece67811-2633-40db-bc45-775331eedac5"
      },
      "outputs": [
        {
          "name": "stdout",
          "output_type": "stream",
          "text": [
            "Requirement already satisfied: torch in /Library/Frameworks/Python.framework/Versions/3.11/lib/python3.11/site-packages (2.3.0)\n",
            "Requirement already satisfied: torchvision in /Library/Frameworks/Python.framework/Versions/3.11/lib/python3.11/site-packages (0.18.0)\n",
            "Requirement already satisfied: pillow in /Library/Frameworks/Python.framework/Versions/3.11/lib/python3.11/site-packages (10.3.0)\n",
            "Requirement already satisfied: flax in /Library/Frameworks/Python.framework/Versions/3.11/lib/python3.11/site-packages (0.8.2)\n",
            "Requirement already satisfied: transformers in /Library/Frameworks/Python.framework/Versions/3.11/lib/python3.11/site-packages (4.40.1)\n",
            "Requirement already satisfied: filelock in /Library/Frameworks/Python.framework/Versions/3.11/lib/python3.11/site-packages (from torch) (3.13.1)\n",
            "Requirement already satisfied: typing-extensions>=4.8.0 in /Library/Frameworks/Python.framework/Versions/3.11/lib/python3.11/site-packages (from torch) (4.9.0)\n",
            "Requirement already satisfied: sympy in /Library/Frameworks/Python.framework/Versions/3.11/lib/python3.11/site-packages (from torch) (1.12)\n",
            "Requirement already satisfied: networkx in /Library/Frameworks/Python.framework/Versions/3.11/lib/python3.11/site-packages (from torch) (3.3)\n",
            "Requirement already satisfied: jinja2 in /Library/Frameworks/Python.framework/Versions/3.11/lib/python3.11/site-packages (from torch) (3.1.2)\n",
            "Requirement already satisfied: fsspec in /Library/Frameworks/Python.framework/Versions/3.11/lib/python3.11/site-packages (from torch) (2024.2.0)\n",
            "Requirement already satisfied: numpy in /Library/Frameworks/Python.framework/Versions/3.11/lib/python3.11/site-packages (from torchvision) (1.26.3)\n",
            "Requirement already satisfied: jax>=0.4.19 in /Library/Frameworks/Python.framework/Versions/3.11/lib/python3.11/site-packages (from flax) (0.4.26)\n",
            "Requirement already satisfied: msgpack in /Library/Frameworks/Python.framework/Versions/3.11/lib/python3.11/site-packages (from flax) (1.0.7)\n",
            "Requirement already satisfied: optax in /Library/Frameworks/Python.framework/Versions/3.11/lib/python3.11/site-packages (from flax) (0.2.2)\n",
            "Requirement already satisfied: orbax-checkpoint in /Library/Frameworks/Python.framework/Versions/3.11/lib/python3.11/site-packages (from flax) (0.5.10)\n",
            "Requirement already satisfied: tensorstore in /Library/Frameworks/Python.framework/Versions/3.11/lib/python3.11/site-packages (from flax) (0.1.56)\n",
            "Requirement already satisfied: rich>=11.1 in /Library/Frameworks/Python.framework/Versions/3.11/lib/python3.11/site-packages (from flax) (13.7.1)\n",
            "Requirement already satisfied: PyYAML>=5.4.1 in /Library/Frameworks/Python.framework/Versions/3.11/lib/python3.11/site-packages (from flax) (6.0.1)\n",
            "Requirement already satisfied: huggingface-hub<1.0,>=0.19.3 in /Library/Frameworks/Python.framework/Versions/3.11/lib/python3.11/site-packages (from transformers) (0.20.3)\n",
            "Requirement already satisfied: packaging>=20.0 in /Users/williamsj/Library/Python/3.11/lib/python/site-packages (from transformers) (23.2)\n",
            "Requirement already satisfied: regex!=2019.12.17 in /Library/Frameworks/Python.framework/Versions/3.11/lib/python3.11/site-packages (from transformers) (2023.12.25)\n",
            "Requirement already satisfied: requests in /Library/Frameworks/Python.framework/Versions/3.11/lib/python3.11/site-packages (from transformers) (2.31.0)\n",
            "Requirement already satisfied: tokenizers<0.20,>=0.19 in /Library/Frameworks/Python.framework/Versions/3.11/lib/python3.11/site-packages (from transformers) (0.19.1)\n",
            "Requirement already satisfied: safetensors>=0.4.1 in /Library/Frameworks/Python.framework/Versions/3.11/lib/python3.11/site-packages (from transformers) (0.4.3)\n",
            "Requirement already satisfied: tqdm>=4.27 in /Library/Frameworks/Python.framework/Versions/3.11/lib/python3.11/site-packages (from transformers) (4.66.1)\n",
            "Requirement already satisfied: ml-dtypes>=0.2.0 in /Library/Frameworks/Python.framework/Versions/3.11/lib/python3.11/site-packages (from jax>=0.4.19->flax) (0.4.0)\n",
            "Requirement already satisfied: opt-einsum in /Library/Frameworks/Python.framework/Versions/3.11/lib/python3.11/site-packages (from jax>=0.4.19->flax) (3.3.0)\n",
            "Requirement already satisfied: scipy>=1.9 in /Library/Frameworks/Python.framework/Versions/3.11/lib/python3.11/site-packages (from jax>=0.4.19->flax) (1.10.1)\n",
            "Requirement already satisfied: markdown-it-py>=2.2.0 in /Library/Frameworks/Python.framework/Versions/3.11/lib/python3.11/site-packages (from rich>=11.1->flax) (3.0.0)\n",
            "Requirement already satisfied: pygments<3.0.0,>=2.13.0 in /Users/williamsj/Library/Python/3.11/lib/python/site-packages (from rich>=11.1->flax) (2.17.2)\n",
            "Requirement already satisfied: MarkupSafe>=2.0 in /Library/Frameworks/Python.framework/Versions/3.11/lib/python3.11/site-packages (from jinja2->torch) (2.1.3)\n",
            "Requirement already satisfied: absl-py>=0.7.1 in /Library/Frameworks/Python.framework/Versions/3.11/lib/python3.11/site-packages (from optax->flax) (2.1.0)\n",
            "Requirement already satisfied: chex>=0.1.86 in /Library/Frameworks/Python.framework/Versions/3.11/lib/python3.11/site-packages (from optax->flax) (0.1.86)\n",
            "Requirement already satisfied: jaxlib>=0.1.37 in /Library/Frameworks/Python.framework/Versions/3.11/lib/python3.11/site-packages (from optax->flax) (0.4.26)\n",
            "Requirement already satisfied: etils[epath,epy] in /Library/Frameworks/Python.framework/Versions/3.11/lib/python3.11/site-packages (from orbax-checkpoint->flax) (1.8.0)\n",
            "Requirement already satisfied: nest_asyncio in /Users/williamsj/Library/Python/3.11/lib/python/site-packages (from orbax-checkpoint->flax) (1.5.8)\n",
            "Requirement already satisfied: protobuf in /Library/Frameworks/Python.framework/Versions/3.11/lib/python3.11/site-packages (from orbax-checkpoint->flax) (3.20.3)\n",
            "Requirement already satisfied: charset-normalizer<4,>=2 in /Library/Frameworks/Python.framework/Versions/3.11/lib/python3.11/site-packages (from requests->transformers) (3.3.2)\n",
            "Requirement already satisfied: idna<4,>=2.5 in /Library/Frameworks/Python.framework/Versions/3.11/lib/python3.11/site-packages (from requests->transformers) (3.6)\n",
            "Requirement already satisfied: urllib3<3,>=1.21.1 in /Library/Frameworks/Python.framework/Versions/3.11/lib/python3.11/site-packages (from requests->transformers) (2.2.1)\n",
            "Requirement already satisfied: certifi>=2017.4.17 in /Library/Frameworks/Python.framework/Versions/3.11/lib/python3.11/site-packages (from requests->transformers) (2024.2.2)\n",
            "Requirement already satisfied: mpmath>=0.19 in /Library/Frameworks/Python.framework/Versions/3.11/lib/python3.11/site-packages (from sympy->torch) (1.3.0)\n",
            "Requirement already satisfied: toolz>=0.9.0 in /Library/Frameworks/Python.framework/Versions/3.11/lib/python3.11/site-packages (from chex>=0.1.86->optax->flax) (0.12.1)\n",
            "Requirement already satisfied: mdurl~=0.1 in /Library/Frameworks/Python.framework/Versions/3.11/lib/python3.11/site-packages (from markdown-it-py>=2.2.0->rich>=11.1->flax) (0.1.2)\n",
            "Requirement already satisfied: importlib_resources in /Library/Frameworks/Python.framework/Versions/3.11/lib/python3.11/site-packages (from etils[epath,epy]->orbax-checkpoint->flax) (6.4.0)\n",
            "Requirement already satisfied: zipp in /Library/Frameworks/Python.framework/Versions/3.11/lib/python3.11/site-packages (from etils[epath,epy]->orbax-checkpoint->flax) (3.18.1)\n"
          ]
        }
      ],
      "source": [
        "!pip install torch torchvision pillow flax transformers\n",
        "!pip install -qU \\\n",
        "  pinecone-client==3.1.0"
      ]
    },
    {
      "cell_type": "code",
      "execution_count": 3,
      "metadata": {
        "id": "GwMfrUrpVHXK"
      },
      "outputs": [
        {
          "name": "stderr",
          "output_type": "stream",
          "text": [
            "/Library/Frameworks/Python.framework/Versions/3.11/lib/python3.11/site-packages/pinecone/data/index.py:1: TqdmWarning: IProgress not found. Please update jupyter and ipywidgets. See https://ipywidgets.readthedocs.io/en/stable/user_install.html\n",
            "  from tqdm.autonotebook import tqdm\n"
          ]
        }
      ],
      "source": [
        "import io\n",
        "import os\n",
        "import time\n",
        "import torch\n",
        "import requests\n",
        "import pandas as pd\n",
        "import numpy as np\n",
        "from pinecone import Pinecone, ServerlessSpec\n",
        "from transformers import CLIPProcessor, CLIPModel, AutoTokenizer, FlaxCLIPTextModelWithProjection\n",
        "from PIL import Image\n",
        "from IPython.display import display, HTML\n",
        "from io import BytesIO"
      ]
    },
    {
      "cell_type": "markdown",
      "metadata": {
        "id": "-65FPeEC38tq"
      },
      "source": [
        "#Connecting to Pinecone"
      ]
    },
    {
      "cell_type": "markdown",
      "metadata": {
        "id": "wSDm7Z2OxTK-"
      },
      "source": [
        "Connecting to Pinecone"
      ]
    },
    {
      "cell_type": "code",
      "execution_count": 4,
      "metadata": {
        "id": "ulfTLlDeV5dM"
      },
      "outputs": [],
      "source": [
        "# initialize connection to pinecone (get API key at app.pinecone.io)\n",
        "api_key = os.environ.get('e3a21a5f-d3c8-486e-b452-54f073bc80c9') or 'e3a21a5f-d3c8-486e-b452-54f073bc80c9'\n",
        "\n",
        "# configure client\n",
        "pc = Pinecone(api_key=api_key)\n",
        "\n",
        "#Connecting to Pinecone Serverless\n",
        "cloud = os.environ.get('PINECONE_CLOUD') or 'aws'\n",
        "region = os.environ.get('PINECONE_REGION') or 'us-west-2'\n",
        "\n",
        "spec = ServerlessSpec(cloud=cloud, region=region)"
      ]
    },
    {
      "cell_type": "markdown",
      "metadata": {
        "id": "EW1yCrG42WgB"
      },
      "source": [
        "Connecting To Pinecone Index We Just Discussed"
      ]
    },
    {
      "cell_type": "code",
      "execution_count": 5,
      "metadata": {
        "colab": {
          "base_uri": "https://localhost:8080/"
        },
        "id": "9BB144myY0-3",
        "outputId": "cb8d2ab6-daa8-463b-bb48-257622d126da"
      },
      "outputs": [
        {
          "data": {
            "text/plain": [
              "{'dimension': 512,\n",
              " 'index_fullness': 0.0,\n",
              " 'namespaces': {'': {'vector_count': 278400435}},\n",
              " 'total_vector_count': 278400435}"
            ]
          },
          "execution_count": 5,
          "metadata": {},
          "output_type": "execute_result"
        }
      ],
      "source": [
        "#Connecting to the Specific Laion Index\n",
        "index_name = 'laion-400m'\n",
        "\n",
        "existing_indexes = [\n",
        "    index_info[\"name\"] for index_info in pc.list_indexes()\n",
        "]\n",
        "\n",
        "# connect to index\n",
        "index = pc.Index(index_name)\n",
        "time.sleep(1)\n",
        "# view index stats\n",
        "index.describe_index_stats()"
      ]
    },
    {
      "cell_type": "markdown",
      "metadata": {
        "id": "30e5TWpNXO0C"
      },
      "source": [
        "#Searching with Images"
      ]
    },
    {
      "cell_type": "markdown",
      "metadata": {
        "id": "wcEwy0A73MgV"
      },
      "source": [
        "##Creating an image vector"
      ]
    },
    {
      "cell_type": "code",
      "execution_count": 7,
      "metadata": {
        "id": "56LH2kM4tE4F"
      },
      "outputs": [],
      "source": [
        "# Load the pre-trained CLIP model and processor from Hugging Face\n",
        "model = CLIPModel.from_pretrained(\"openai/clip-vit-base-patch32\")\n",
        "processor = CLIPProcessor.from_pretrained(\"openai/clip-vit-base-patch32\")\n",
        "\n",
        "def get_image_embedding(image_path):\n",
        "    # Load the image\n",
        "    image = Image.open(image_path)\n",
        "\n",
        "    # Preprocess the image and return PyTorch tensor\n",
        "    inputs = processor(images=image, return_tensors=\"pt\")\n",
        "\n",
        "    # Generate the image embedding\n",
        "    with torch.no_grad():\n",
        "        image_embeddings = model.get_image_features(**inputs)\n",
        "\n",
        "    # Convert the image embedding from a numpy array to a list\n",
        "    return image_embeddings.cpu().numpy().tolist()\n",
        "\n",
        "#Give it an image\n",
        "image_path = \"./boxer.jpeg\"  # Replace with your image path\n",
        "image_embedding = get_image_embedding(image_path)"
      ]
    },
    {
      "cell_type": "code",
      "execution_count": 8,
      "metadata": {
        "colab": {
          "base_uri": "https://localhost:8080/"
        },
        "id": "uFKopJsYsEZ7",
        "outputId": "ff36afd6-5ab7-40a7-9519-3d137d6fb9ad"
      },
      "outputs": [
        {
          "name": "stdout",
          "output_type": "stream",
          "text": [
            "[[-0.11499130725860596, -0.2915298044681549, -0.3722771406173706, -0.06986269354820251, -0.039647843688726425, -0.8347188830375671, -0.14220204949378967, -0.3288537263870239, 0.6156586408615112, 0.05957019329071045, -0.312560498714447, 0.21596963703632355, 0.18527407944202423, -0.022201940417289734, 0.8037807941436768, 0.12518104910850525, 1.2980550527572632, 0.04160517454147339, -0.28027772903442383, 0.12055625021457672, -0.5168699026107788, 0.477660596370697, 0.12324009835720062, -0.40923774242401123, -0.44150203466415405, 0.08682079613208771, 0.3866202235221863, 0.2852776050567627, 0.10224686563014984, 0.4253156781196594, 0.18553447723388672, -0.18726889789104462, 0.2171315848827362, 0.38283175230026245, -0.2633007764816284, 0.10114464908838272, -0.07161823660135269, 0.24232521653175354, -0.20367690920829773, 1.0719773769378662, -0.6910799145698547, 0.1403619945049286, 0.06283770501613617, 0.26932865381240845, 0.14178681373596191, 1.3033376932144165, -0.22856053709983826, 0.11312726140022278, 0.41407808661460876, 0.21846923232078552, -0.37526047229766846, 0.0965527594089508, -0.02560339868068695, 0.08876502513885498, -0.05108064413070679, -0.14246244728565216, 0.1939905881881714, 0.38408005237579346, -0.12448740005493164, -0.19050902128219604, 0.9135462045669556, 0.21129092574119568, 0.1984231173992157, 0.02703569084405899, 0.06654658913612366, -0.3575776517391205, 0.2575376331806183, -0.017818011343479156, -0.24440082907676697, 0.07501808553934097, 0.08152835816144943, -0.17262916266918182, 0.2266068309545517, -0.2363540679216385, -0.5506446361541748, -0.2961752712726593, -0.01340571790933609, -0.04653870314359665, -0.24258428812026978, 0.2654016613960266, -0.09944090247154236, 0.2608882486820221, -0.32585227489471436, -1.039634346961975, 0.5933072566986084, -0.15387803316116333, 0.5205225944519043, 0.24657823145389557, -0.12527838349342346, 0.2811461091041565, -0.36232471466064453, -0.33118748664855957, -7.5548224449157715, 0.32289713621139526, -0.4978635907173157, -0.15070733428001404, -0.13466495275497437, 0.2702913284301758, -1.4516264200210571, 0.3320137858390808, 0.08053508400917053, 0.06071647256612778, 0.10950352996587753, -0.1361752152442932, 0.11047699302434921, -0.279718816280365, 1.550468921661377, 0.15020284056663513, 0.0851743072271347, -0.29556214809417725, 0.23608073592185974, -0.07027846574783325, 0.3422439396381378, 0.0060583241283893585, 0.05873209238052368, -0.4385128617286682, -0.31463974714279175, -0.15556851029396057, 0.03141145408153534, -0.24074572324752808, 0.018363118171691895, 1.0878832340240479, 0.7093091011047363, -0.26334893703460693, 0.05176699906587601, -0.28062495589256287, -0.21613670885562897, 0.018025625497102737, -0.5987768173217773, -0.49037912487983704, 0.35951220989227295, 0.20422182977199554, 0.006622374057769775, 0.9892587661743164, -0.34415578842163086, 0.24722562730312347, 0.2969503104686737, -0.2768436670303345, -0.26530522108078003, -0.09297564625740051, 0.2155812382698059, 0.1295337677001953, -0.27825474739074707, 0.10588037967681885, -0.13165391981601715, 0.2858225107192993, 0.041359737515449524, 0.4438844621181488, 0.09135653078556061, 0.16975843906402588, -0.3994537889957428, 0.18377697467803955, 0.18517281115055084, -0.2611401081085205, -0.39988091588020325, 0.4408568739891052, -0.2714279294013977, -0.141941636800766, -0.3610411286354065, 0.4230479598045349, 0.060034893453121185, 0.17635220289230347, -0.47391197085380554, -0.1572646051645279, 0.29347050189971924, -0.17643636465072632, -0.3297250270843506, -0.2523345351219177, 0.3225634694099426, 0.4581132233142853, -0.08349316567182541, -0.2841332256793976, 0.24698123335838318, -0.25035807490348816, -0.08167251944541931, 0.07122474163770676, 0.13554421067237854, -0.18619921803474426, 0.5856262445449829, 0.2686120569705963, 0.2418091595172882, -0.35075002908706665, 0.3150389790534973, -0.24266403913497925, -0.33830857276916504, 0.16548338532447815, -0.3400607109069824, -0.02107955515384674, 0.005577310919761658, -0.1975664645433426, 0.060435742139816284, -0.041287437081336975, 0.06795646250247955, -0.32418790459632874, 0.2354726791381836, 0.15886807441711426, 0.45307275652885437, 0.08667629957199097, -1.2709118127822876, -0.2353244125843048, 0.19578438997268677, 0.05949956178665161, 0.22856369614601135, 0.4192877411842346, -0.2820717990398407, -0.5247392058372498, 0.1865251213312149, -0.2927776575088501, -0.0456196591258049, 0.520340621471405, 0.45853400230407715, -0.03760075569152832, -0.08073318004608154, 0.26556193828582764, -0.23988205194473267, -0.08935949206352234, -0.5702900886535645, 0.6009043455123901, 0.9656675457954407, -0.17048291862010956, 0.7957301735877991, 0.37422752380371094, 0.1843087077140808, 0.19196544587612152, 0.0692284107208252, -0.16639931499958038, 0.24112218618392944, -0.6098991632461548, 0.17056268453598022, -0.1992780864238739, 0.08927138149738312, 0.30742311477661133, 0.0818767249584198, 0.9712988138198853, -0.14035353064537048, 0.029658183455467224, 0.07018129527568817, -0.5966334342956543, 0.37857386469841003, -0.05329030007123947, 0.376863956451416, 0.037167198956012726, 0.06950949132442474, -0.02178145945072174, 0.6517364382743835, 0.27413469552993774, 0.18228992819786072, -0.5662477016448975, 0.10472987592220306, 0.3275052309036255, 0.2516431212425232, 0.4456484913825989, 0.7003737092018127, -0.22252634167671204, -0.16228878498077393, 0.15043342113494873, -0.2889314293861389, -0.08041046559810638, -0.6124666929244995, -0.35705438256263733, -0.6717267036437988, 0.16841250658035278, 0.18404707312583923, 0.25275081396102905, -0.06404832005500793, -0.34071287512779236, -0.3895077109336853, -0.5336173176765442, -0.23737959563732147, 0.34106507897377014, -0.19985173642635345, 0.1283041387796402, 0.6213952898979187, -0.11890856921672821, -0.07078193128108978, 0.04570703208446503, -0.07360047101974487, 0.23195718228816986, -0.21333226561546326, -0.25632259249687195, -0.11605457216501236, 0.19683507084846497, -0.1785532385110855, 0.07832059264183044, -0.059218332171440125, -0.34134137630462646, -0.2249075472354889, 0.19909335672855377, -0.2397487461566925, -0.2411845177412033, -0.13410839438438416, 0.10993395745754242, -0.017293807119131088, 0.008813835680484772, -0.1285305917263031, -0.42871150374412537, -0.20584231615066528, 0.3827665150165558, -0.058511897921562195, 0.14435520768165588, 0.03931128606200218, 0.06920139491558075, -0.37261778116226196, 0.0872754156589508, 0.19596964120864868, -0.06276901066303253, 0.27511852979660034, -0.020886272192001343, 0.402029812335968, 0.24978047609329224, 0.15640251338481903, 0.4731699824333191, 0.9881609082221985, -0.2167339324951172, 0.16132380068302155, 0.009721942245960236, 0.10185088217258453, 0.18320918083190918, -0.3881475329399109, -1.0285643339157104, 0.8870466947555542, 0.5328607559204102, -0.07307646423578262, 0.24752770364284515, 0.4572216272354126, -0.13221243023872375, -0.27354758977890015, -0.16245679557323456, 0.19668157398700714, 0.28804653882980347, 0.016023531556129456, -0.15863288938999176, 0.006643414497375488, -0.5541281700134277, 0.4097723662853241, -0.13711722195148468, 0.37531474232673645, 0.17348745465278625, 0.5899796485900879, -0.5901439189910889, 0.006368603557348251, -0.25705522298812866, 0.21191300451755524, 0.060108721256256104, 0.16968077421188354, -0.5049889087677002, 0.29492780566215515, 0.344788134098053, 0.0678778663277626, 0.0942501425743103, -0.273662269115448, -0.3332234025001526, 0.24483802914619446, 0.1722603440284729, 0.10116235166788101, 0.17800557613372803, -0.17774267494678497, -0.7183439135551453, 0.5153812766075134, -0.23497098684310913, 0.3469347655773163, -0.229658842086792, -0.004857569932937622, -0.07114966213703156, -0.448371022939682, -0.10946812480688095, -0.44495904445648193, -0.19399748742580414, -0.4273979961872101, 0.01537572592496872, 0.07212112843990326, 0.22577691078186035, 0.19687893986701965, 0.34991705417633057, -0.5327301025390625, -0.39419132471084595, 1.0435221195220947, -0.1918621063232422, 0.11479413509368896, 0.20228826999664307, 0.4491489827632904, -0.29851534962654114, -0.02187049388885498, 0.04648458957672119, 0.3805373013019562, -0.1577950417995453, -0.6203163266181946, -0.266396701335907, 0.18668922781944275, -2.0577468872070312, 0.23614223301410675, -0.7427365779876709, 0.059138402342796326, 0.10513175278902054, -0.33779290318489075, -0.1919303685426712, 0.025004372000694275, -0.5135581493377686, -0.7513611316680908, -0.815605103969574, -0.07639749348163605, 0.050650566816329956, 0.07757921516895294, -0.24177643656730652, 0.35371971130371094, -0.06268556416034698, -0.10178612172603607, 0.07737359404563904, 0.18950028717517853, -0.16125859320163727, 0.624177873134613, -0.7698495388031006, 0.1987464725971222, -0.26287850737571716, -0.2604036331176758, 0.1859854757785797, 0.32802098989486694, 0.3135873079299927, 0.2740732729434967, -0.44586387276649475, 0.024134144186973572, -0.43945473432540894, 0.06672169268131256, 0.13426578044891357, -0.10237577557563782, 0.15229301154613495, 0.3596041202545166, 0.2839171588420868, -0.2500830590724945, -0.2566906213760376, -0.01437077671289444, -0.016381338238716125, -0.1385950893163681, 0.5225462317466736, 0.06348221004009247, -0.08467905223369598, -0.7117956280708313, 0.16750772297382355, -0.14420875906944275, -0.11269538849592209, 0.3568684756755829, 0.37387436628341675, 0.002328764647245407, -0.09400813281536102, 0.28604140877723694, 0.39817145466804504, 0.16414883732795715, 0.17706096172332764, -0.12983381748199463, -0.2632042169570923, -0.14362090826034546, -0.008337218314409256, 0.41148436069488525, 0.8448126316070557, -0.608878493309021, -0.08322659134864807, -0.14293086528778076, 0.567926287651062, -0.0305439755320549, 0.253493070602417, 0.07543089985847473, -0.11478772759437561, 0.05522811412811279, 0.001687999814748764, 0.26296359300613403, 0.3394225239753723, -0.038155339658260345, 0.381252646446228, 0.020082544535398483, -0.4684213399887085, 0.32645124197006226, -0.19637733697891235, 0.14723917841911316, -0.12840339541435242, -0.2099764049053192, -0.10602421313524246, -0.40116018056869507, 0.0030395090579986572, -0.33574315905570984, -0.2818366587162018, -0.13040673732757568, 0.16488155722618103, 0.15727326273918152, -0.24919714033603668, -0.5209750533103943, 0.13658688962459564, 0.01640714704990387, -0.23437851667404175, -0.1740572601556778, 0.22698122262954712, -0.34399718046188354, -0.05665525794029236, 0.17934316396713257, -0.06172919273376465, 0.03390530124306679, 0.10743817687034607, -0.2964586913585663, 0.4266647696495056, -0.43674856424331665, 0.11529675126075745, 0.0006490200757980347, -0.20742662250995636, 0.29224729537963867, -0.14763115346431732, -0.26482540369033813, 0.32583534717559814, -0.5249931216239929, 0.03597643971443176, -0.5633864998817444, 0.8461050391197205, 0.4084819555282593, -0.3009885549545288]]\n"
          ]
        }
      ],
      "source": [
        "# Now 'image_embedding' is a list containing the vector representation of your image\n",
        "print(image_embedding)"
      ]
    },
    {
      "cell_type": "markdown",
      "metadata": {
        "id": "vNz_VpMT3JVV"
      },
      "source": [
        "##Setting up the query"
      ]
    },
    {
      "cell_type": "code",
      "execution_count": 11,
      "metadata": {
        "id": "2zL7sn0a3I8C"
      },
      "outputs": [],
      "source": [
        "query = image_embedding\n",
        "# now query\n",
        "xc = index.query(vector=query, top_k=25, include_metadata=True)"
      ]
    },
    {
      "cell_type": "code",
      "execution_count": 12,
      "metadata": {
        "colab": {
          "base_uri": "https://localhost:8080/"
        },
        "id": "7gKRmy3XUmIY",
        "outputId": "a57646fb-79f8-46f1-a451-f8fbb9261e79"
      },
      "outputs": [
        {
          "data": {
            "text/plain": [
              "{'matches': [{'id': '36199-64',\n",
              "              'metadata': {'caption': 'boxer dog with tail boxer puppies for '\n",
              "                                      'sale akc puppyfinder',\n",
              "                           'url': 'http://t0.gstatic.com/images?q=tbn:ANd9GcSW_plCoiEmW5am7GnV4IR9FJdRPndOroFhGcMk0FF-W_byp29y'},\n",
              "              'score': 0.909388,\n",
              "              'values': []},\n",
              "             {'id': '4736-2965',\n",
              "              'metadata': {'caption': 'Barney the Bulldog by gisondan',\n",
              "                           'url': 'http://ih1.redbubble.net/image.3890825.8486/flat,220x200,075,t.jpg'},\n",
              "              'score': 0.908618927,\n",
              "              'values': []},\n",
              "             {'id': '30898-6124',\n",
              "              'metadata': {'caption': 'English Bulldog',\n",
              "                           'url': 'https://puppiesforsaleinsandiego.com/wp-content/uploads/2018/11/EnglishBulldog-300x300.jpg'},\n",
              "              'score': 0.904597163,\n",
              "              'values': []},\n",
              "             {'id': '40998-3652',\n",
              "              'metadata': {'caption': 'Boxer Puppies For Sale - AKC '\n",
              "                                      'PuppyFinder',\n",
              "                           'url': 'https://i.pinimg.com/736x/11/6c/09/116c0990180075b0a07fb209a1334db3--boxer-puppies-for-sale-boxers.jpg'},\n",
              "              'score': 0.902557373,\n",
              "              'values': []},\n",
              "             {'id': '28651-8547',\n",
              "              'metadata': {'caption': 'English Bulldog Tesa',\n",
              "                           'url': 'https://photos.smugmug.com/Galleries/Pets/i-gpG9HgV/2/9ad183f7/S/Tesa_29apr2008_0013-Edit-S.jpg'},\n",
              "              'score': 0.902309537,\n",
              "              'values': []},\n",
              "             {'id': '1842-6848',\n",
              "              'metadata': {'caption': 'Dogue de Bordeaux puppy, 10 weeks old, '\n",
              "                                      'lying in front of white background',\n",
              "                           'url': 'https://static9.depositphotos.com/1594920/1087/i/380/depositphotos_10878916-stock-photo-dogue-de-bordeaux-puppy-10.jpg'},\n",
              "              'score': 0.900752723,\n",
              "              'values': []},\n",
              "             {'id': '34755-8724',\n",
              "              'metadata': {'caption': 'boxer puppies for sale boxer puppies '\n",
              "                                      'for sale in san diego national city '\n",
              "                                      'puppy',\n",
              "                           'url': 'http://tse4.mm.bing.net/th?id=OIP.Uh9KnVWjCyeOxdO2ku5mzQHaFj'},\n",
              "              'score': 0.900312901,\n",
              "              'values': []},\n",
              "             {'id': '37209-6865',\n",
              "              'metadata': {'caption': 'Barney the Bulldog by gisondan',\n",
              "                           'url': 'http://ih0.redbubble.net/image.3890825.8486/flat,140x140,075,t.jpg'},\n",
              "              'score': 0.899802685,\n",
              "              'values': []},\n",
              "             {'id': '7242-3415',\n",
              "              'metadata': {'caption': 'A cute Dogue de Bordeaux puppy does not '\n",
              "                                      'look too happy',\n",
              "                           'url': 'https://www.argospetinsurance.co.uk/assets/uploads/2015/08/A-Dogue-de-Bordeaux-puppy-looks-unhappy-285x300.jpg'},\n",
              "              'score': 0.899722457,\n",
              "              'values': []},\n",
              "             {'id': '30395-749',\n",
              "              'metadata': {'caption': 'stock photo of french bulldog puppy  - '\n",
              "                                      'Sad puppy of French bulldog sits on a '\n",
              "                                      'white background - JPG',\n",
              "                           'url': 'https://static2.bigstockphoto.com/thumbs/4/2/4/small2/42418402.jpg'},\n",
              "              'score': 0.899718285,\n",
              "              'values': []},\n",
              "             {'id': '20811-9200',\n",
              "              'metadata': {'caption': 'foto of puppy eyes  - Sad puppy of '\n",
              "                                      'French bulldog sits on a white '\n",
              "                                      'background - JPG',\n",
              "                           'url': 'https://static2.bigstockphoto.com/thumbs/4/2/4/small2/42418402.jpg'},\n",
              "              'score': 0.899718285,\n",
              "              'values': []},\n",
              "             {'id': '8807-5485',\n",
              "              'metadata': {'caption': 'foto of bulldog  - Sad puppy of French '\n",
              "                                      'bulldog sits on a white background - '\n",
              "                                      'JPG',\n",
              "                           'url': 'https://static2.bigstockphoto.com/thumbs/4/2/4/small2/42418402.jpg'},\n",
              "              'score': 0.899718285,\n",
              "              'values': []},\n",
              "             {'id': '29070-7441',\n",
              "              'metadata': {'caption': 'English Bulldog Puppies for Sale',\n",
              "                           'url': 'https://www.infinitypups.com/wp-content/uploads/2019/02/english-bulldog-copy.jpg'},\n",
              "              'score': 0.898286164,\n",
              "              'values': []},\n",
              "             {'id': '22303-1302',\n",
              "              'metadata': {'caption': 'Boston Terrier',\n",
              "                           'url': 'https://animalsbreeds.com/wp-content/uploads/2014/07/Boston-Terrier-13-150x150.jpg'},\n",
              "              'score': 0.896389604,\n",
              "              'values': []},\n",
              "             {'id': '25142-9237',\n",
              "              'metadata': {'caption': 'Not happy puppy Stock Photo',\n",
              "                           'url': 'https://freedesignfile.com/upload/2017/04/Not-happy-puppy-Stock-Photo-280x235.jpg'},\n",
              "              'score': 0.895265579,\n",
              "              'values': []},\n",
              "             {'id': '23743-9030',\n",
              "              'metadata': {'caption': 'Boxer puppies for sale',\n",
              "                           'url': 'https://uptownpuppies.com/wp-content/themes/mega-theme/images/boxer5.jpg'},\n",
              "              'score': 0.894025743,\n",
              "              'values': []},\n",
              "             {'id': '38842-1222',\n",
              "              'metadata': {'caption': 'Uptown Puppies Boxer Breeder',\n",
              "                           'url': 'https://uptownpuppies.com/wp-content/themes/mega-theme/images/boxer5.jpg'},\n",
              "              'score': 0.894025743,\n",
              "              'values': []},\n",
              "             {'id': '40135-8541',\n",
              "              'metadata': {'caption': '\"Cute bulldog puppy. \"\"You can\\'t leave '\n",
              "                                      'me home alone for so long. You just '\n",
              "                                      'can\\'t!\"\" #puppy #bulldog\"',\n",
              "                           'url': 'https://i.pinimg.com/236x/5c/b3/76/5cb376ac99ec44ce9fd27e00c73e6bff.jpg'},\n",
              "              'score': 0.891202092,\n",
              "              'values': []},\n",
              "             {'id': '25895-6829',\n",
              "              'metadata': {'caption': 'BOSTON TERRIER 32 - Aquanatura '\n",
              "                                      '(Barcelona) - Cachorro en venta de '\n",
              "                                      'AQUANATURA',\n",
              "                           'url': 'https://www.mundoanimalia.com/images/cachorros/0c/2f/44/dd14656b73fce3fc005bc64da1926cc4/thumbm__mg_9462__7782.jpg'},\n",
              "              'score': 0.891133785,\n",
              "              'values': []},\n",
              "             {'id': '261-1556',\n",
              "              'metadata': {'caption': 'Po-faced Bulldog Hand Towel',\n",
              "                           'url': 'https://render.fineartamerica.com/images/rendered/search/flat/bath-towel/images/artworkimages/medium/1/po-faced-bulldog-warren-photographic.jpg?&targetx=0&targety=-109%E2%84%91width=952%E2%84%91height=695&modelwidth=952&modelheight=476&backgroundcolor=A26F4E%E2%88%A8ientation=1%E2%88%8Fucttype=bathtowel-15-30'},\n",
              "              'score': 0.890981197,\n",
              "              'values': []},\n",
              "             {'id': '27843-2458',\n",
              "              'metadata': {'caption': 'English Bulldog Wallpa...',\n",
              "                           'url': 'https://wallpapercave.com/wp/wp1867717.jpg'},\n",
              "              'score': 0.890927136,\n",
              "              'values': []},\n",
              "             {'id': '2834-4282',\n",
              "              'metadata': {'caption': 'Cute Puppy Pictures Digital Art Posters '\n",
              "                                      '- English Bulldog Puppy Poster by '\n",
              "                                      'Natalie Kinnear',\n",
              "                           'url': 'http://images.fineartamerica.com/images-small-5/english-bulldog-puppy-natalie-kinnear.jpg'},\n",
              "              'score': 0.890798926,\n",
              "              'values': []},\n",
              "             {'id': '2717-3030',\n",
              "              'metadata': {'caption': 'Bulldog puppy with chin on paws, '\n",
              "                                      'against white background  -  Mark '\n",
              "                                      'Taylor',\n",
              "                           'url': 'https://www.naturepl.com/cache/mcache/01457134.jpg'},\n",
              "              'score': 0.88968116,\n",
              "              'values': []},\n",
              "             {'id': '5166-3241',\n",
              "              'metadata': {'caption': 'English Bulldog puppy, 4 months old, '\n",
              "                                      'sitting in front of white background',\n",
              "                           'url': 'https://s3.envato.com/files/2948179/2010_158_102_580.jpg'},\n",
              "              'score': 0.889540076,\n",
              "              'values': []},\n",
              "             {'id': '3904-1682',\n",
              "              'metadata': {'caption': 'Dogue de Bordeaux pic',\n",
              "                           'url': 'https://breedinfo.ru/uploads/posts/2015-12/thumbs/10_dogue_de_bordeaux-thumb.jpg'},\n",
              "              'score': 0.888530731,\n",
              "              'values': []}],\n",
              " 'namespace': '',\n",
              " 'usage': {'read_units': 150}}"
            ]
          },
          "execution_count": 12,
          "metadata": {},
          "output_type": "execute_result"
        }
      ],
      "source": [
        "xc"
      ]
    },
    {
      "cell_type": "markdown",
      "metadata": {
        "id": "iQ_P8Wj7ubrY"
      },
      "source": [
        "##Display Data"
      ]
    },
    {
      "cell_type": "code",
      "execution_count": 13,
      "metadata": {
        "colab": {
          "base_uri": "https://localhost:8080/"
        },
        "id": "dlZm8zRU9FaI",
        "outputId": "34b5d00b-f862-4b32-e5c5-793052949b97"
      },
      "outputs": [
        {
          "name": "stdout",
          "output_type": "stream",
          "text": [
            "General Error for URL https://puppiesforsaleinsandiego.com/wp-content/uploads/2018/11/EnglishBulldog-300x300.jpg: cannot identify image file <_io.BytesIO object at 0x16c252110>\n",
            "General Error for URL https://photos.smugmug.com/Galleries/Pets/i-gpG9HgV/2/9ad183f7/S/Tesa_29apr2008_0013-Edit-S.jpg: cannot identify image file <_io.BytesIO object at 0x16c252110>\n",
            "General Error for URL https://www.infinitypups.com/wp-content/uploads/2019/02/english-bulldog-copy.jpg: cannot identify image file <_io.BytesIO object at 0x2825e6ca0>\n",
            "General Error for URL https://www.mundoanimalia.com/images/cachorros/0c/2f/44/dd14656b73fce3fc005bc64da1926cc4/thumbm__mg_9462__7782.jpg: cannot identify image file <_io.BytesIO object at 0x2b80a7a10>\n",
            "General Error for URL https://www.naturepl.com/cache/mcache/01457134.jpg: cannot identify image file <_io.BytesIO object at 0x28257ce00>\n"
          ]
        }
      ],
      "source": [
        "# Assuming 'xc' is the Pinecone query result you showed earlier\n",
        "matches = xc['matches']  # Correctly accessing the matches from the Pinecone response\n",
        "\n",
        "html_content = \"<h2>Image Results</h2>\"\n",
        "for match in matches:\n",
        "    caption = match['metadata'].get('caption', 'No caption available')\n",
        "    url = match['metadata'].get('url', '')\n",
        "\n",
        "    try:\n",
        "        # Attempt to retrieve and display the image\n",
        "        image_response = requests.get(url)\n",
        "        image = Image.open(BytesIO(image_response.content))\n",
        "        img_tag = f\"<img src='{url}' width='300'>\"\n",
        "    except requests.exceptions.SSLError as e:\n",
        "        print(f\"SSL Error for URL {url}: {e}\")\n",
        "        img_tag = \"<p>Image not available due to SSL error.</p>\"\n",
        "    except Exception as e:\n",
        "        print(f\"General Error for URL {url}: {e}\")\n",
        "        img_tag = \"<p>Image not available due to general error.</p>\"\n",
        "\n",
        "    html_content += f\"<div style='margin-bottom: 20px;'><h4>{caption}</h4>{img_tag}<br>Score: {match['score']:.4f}</div>\""
      ]
    },
    {
      "cell_type": "code",
      "execution_count": 14,
      "metadata": {
        "colab": {
          "base_uri": "https://localhost:8080/",
          "height": 1000
        },
        "id": "QC457zO0uYRs",
        "outputId": "ee0adb94-43be-4387-b2d0-07951989bf9f"
      },
      "outputs": [
        {
          "data": {
            "text/html": [
              "<h2>Image Results</h2><div style='margin-bottom: 20px;'><h4>boxer dog with tail boxer puppies for sale akc puppyfinder</h4><img src='http://t0.gstatic.com/images?q=tbn:ANd9GcSW_plCoiEmW5am7GnV4IR9FJdRPndOroFhGcMk0FF-W_byp29y' width='300'><br>Score: 0.9094</div><div style='margin-bottom: 20px;'><h4>Barney the Bulldog by gisondan</h4><img src='http://ih1.redbubble.net/image.3890825.8486/flat,220x200,075,t.jpg' width='300'><br>Score: 0.9086</div><div style='margin-bottom: 20px;'><h4>English Bulldog</h4><p>Image not available due to general error.</p><br>Score: 0.9046</div><div style='margin-bottom: 20px;'><h4>Boxer Puppies For Sale - AKC PuppyFinder</h4><img src='https://i.pinimg.com/736x/11/6c/09/116c0990180075b0a07fb209a1334db3--boxer-puppies-for-sale-boxers.jpg' width='300'><br>Score: 0.9026</div><div style='margin-bottom: 20px;'><h4>English Bulldog Tesa</h4><p>Image not available due to general error.</p><br>Score: 0.9023</div><div style='margin-bottom: 20px;'><h4>Dogue de Bordeaux puppy, 10 weeks old, lying in front of white background</h4><img src='https://static9.depositphotos.com/1594920/1087/i/380/depositphotos_10878916-stock-photo-dogue-de-bordeaux-puppy-10.jpg' width='300'><br>Score: 0.9008</div><div style='margin-bottom: 20px;'><h4>boxer puppies for sale boxer puppies for sale in san diego national city puppy</h4><img src='http://tse4.mm.bing.net/th?id=OIP.Uh9KnVWjCyeOxdO2ku5mzQHaFj' width='300'><br>Score: 0.9003</div><div style='margin-bottom: 20px;'><h4>Barney the Bulldog by gisondan</h4><img src='http://ih0.redbubble.net/image.3890825.8486/flat,140x140,075,t.jpg' width='300'><br>Score: 0.8998</div><div style='margin-bottom: 20px;'><h4>A cute Dogue de Bordeaux puppy does not look too happy</h4><img src='https://www.argospetinsurance.co.uk/assets/uploads/2015/08/A-Dogue-de-Bordeaux-puppy-looks-unhappy-285x300.jpg' width='300'><br>Score: 0.8997</div><div style='margin-bottom: 20px;'><h4>stock photo of french bulldog puppy  - Sad puppy of French bulldog sits on a white background - JPG</h4><img src='https://static2.bigstockphoto.com/thumbs/4/2/4/small2/42418402.jpg' width='300'><br>Score: 0.8997</div><div style='margin-bottom: 20px;'><h4>foto of puppy eyes  - Sad puppy of French bulldog sits on a white background - JPG</h4><img src='https://static2.bigstockphoto.com/thumbs/4/2/4/small2/42418402.jpg' width='300'><br>Score: 0.8997</div><div style='margin-bottom: 20px;'><h4>foto of bulldog  - Sad puppy of French bulldog sits on a white background - JPG</h4><img src='https://static2.bigstockphoto.com/thumbs/4/2/4/small2/42418402.jpg' width='300'><br>Score: 0.8997</div><div style='margin-bottom: 20px;'><h4>English Bulldog Puppies for Sale</h4><p>Image not available due to general error.</p><br>Score: 0.8983</div><div style='margin-bottom: 20px;'><h4>Boston Terrier</h4><img src='https://animalsbreeds.com/wp-content/uploads/2014/07/Boston-Terrier-13-150x150.jpg' width='300'><br>Score: 0.8964</div><div style='margin-bottom: 20px;'><h4>Not happy puppy Stock Photo</h4><img src='https://freedesignfile.com/upload/2017/04/Not-happy-puppy-Stock-Photo-280x235.jpg' width='300'><br>Score: 0.8953</div><div style='margin-bottom: 20px;'><h4>Boxer puppies for sale</h4><img src='https://uptownpuppies.com/wp-content/themes/mega-theme/images/boxer5.jpg' width='300'><br>Score: 0.8940</div><div style='margin-bottom: 20px;'><h4>Uptown Puppies Boxer Breeder</h4><img src='https://uptownpuppies.com/wp-content/themes/mega-theme/images/boxer5.jpg' width='300'><br>Score: 0.8940</div><div style='margin-bottom: 20px;'><h4>\"Cute bulldog puppy. \"\"You can't leave me home alone for so long. You just can't!\"\" #puppy #bulldog\"</h4><img src='https://i.pinimg.com/236x/5c/b3/76/5cb376ac99ec44ce9fd27e00c73e6bff.jpg' width='300'><br>Score: 0.8912</div><div style='margin-bottom: 20px;'><h4>BOSTON TERRIER 32 - Aquanatura (Barcelona) - Cachorro en venta de AQUANATURA</h4><p>Image not available due to general error.</p><br>Score: 0.8911</div><div style='margin-bottom: 20px;'><h4>Po-faced Bulldog Hand Towel</h4><img src='https://render.fineartamerica.com/images/rendered/search/flat/bath-towel/images/artworkimages/medium/1/po-faced-bulldog-warren-photographic.jpg?&targetx=0&targety=-109%E2%84%91width=952%E2%84%91height=695&modelwidth=952&modelheight=476&backgroundcolor=A26F4E%E2%88%A8ientation=1%E2%88%8Fucttype=bathtowel-15-30' width='300'><br>Score: 0.8910</div><div style='margin-bottom: 20px;'><h4>English Bulldog Wallpa...</h4><img src='https://wallpapercave.com/wp/wp1867717.jpg' width='300'><br>Score: 0.8909</div><div style='margin-bottom: 20px;'><h4>Cute Puppy Pictures Digital Art Posters - English Bulldog Puppy Poster by Natalie Kinnear</h4><img src='http://images.fineartamerica.com/images-small-5/english-bulldog-puppy-natalie-kinnear.jpg' width='300'><br>Score: 0.8908</div><div style='margin-bottom: 20px;'><h4>Bulldog puppy with chin on paws, against white background  -  Mark Taylor</h4><p>Image not available due to general error.</p><br>Score: 0.8897</div><div style='margin-bottom: 20px;'><h4>English Bulldog puppy, 4 months old, sitting in front of white background</h4><img src='https://s3.envato.com/files/2948179/2010_158_102_580.jpg' width='300'><br>Score: 0.8895</div><div style='margin-bottom: 20px;'><h4>Dogue de Bordeaux pic</h4><img src='https://breedinfo.ru/uploads/posts/2015-12/thumbs/10_dogue_de_bordeaux-thumb.jpg' width='300'><br>Score: 0.8885</div>"
            ],
            "text/plain": [
              "<IPython.core.display.HTML object>"
            ]
          },
          "metadata": {},
          "output_type": "display_data"
        }
      ],
      "source": [
        "# Display the HTML content\n",
        "display(HTML(html_content))"
      ]
    },
    {
      "cell_type": "markdown",
      "metadata": {
        "id": "b2hYGYQ5w-F0"
      },
      "source": [
        "#Searching With Text"
      ]
    },
    {
      "cell_type": "markdown",
      "metadata": {
        "id": "dOph9aw441YY"
      },
      "source": [
        "##Creating a text vector"
      ]
    },
    {
      "cell_type": "code",
      "execution_count": 15,
      "metadata": {
        "colab": {
          "base_uri": "https://localhost:8080/"
        },
        "id": "dR5iTXMczoer",
        "outputId": "82894fe9-5626-42c2-c957-7f0d9f0e9471"
      },
      "outputs": [
        {
          "name": "stderr",
          "output_type": "stream",
          "text": [
            "flax_model.msgpack: 100%|██████████| 605M/605M [01:10<00:00, 8.54MB/s] \n",
            "Some weights of the model checkpoint at openai/clip-vit-base-patch32 were not used when initializing FlaxCLIPTextModelWithProjection: {('vision_model', 'encoder', 'layers', '8', 'self_attn', 'k_proj', 'kernel'), ('vision_model', 'encoder', 'layers', '4', 'self_attn', 'v_proj', 'kernel'), ('vision_model', 'encoder', 'layers', '8', 'self_attn', 'v_proj', 'kernel'), ('vision_model', 'encoder', 'layers', '6', 'self_attn', 'v_proj', 'kernel'), ('vision_model', 'encoder', 'layers', '1', 'mlp', 'fc1', 'kernel'), ('vision_model', 'encoder', 'layers', '1', 'mlp', 'fc1', 'bias'), ('visual_projection', 'kernel'), ('vision_model', 'encoder', 'layers', '5', 'self_attn', 'out_proj', 'bias'), ('vision_model', 'pre_layrnorm', 'bias'), ('vision_model', 'encoder', 'layers', '10', 'layer_norm1', 'bias'), ('vision_model', 'encoder', 'layers', '11', 'layer_norm1', 'scale'), ('vision_model', 'encoder', 'layers', '2', 'mlp', 'fc1', 'kernel'), ('vision_model', 'encoder', 'layers', '7', 'mlp', 'fc2', 'kernel'), ('vision_model', 'encoder', 'layers', '7', 'mlp', 'fc2', 'bias'), ('vision_model', 'encoder', 'layers', '2', 'self_attn', 'k_proj', 'bias'), ('vision_model', 'encoder', 'layers', '9', 'self_attn', 'k_proj', 'kernel'), ('vision_model', 'encoder', 'layers', '0', 'layer_norm1', 'scale'), ('vision_model', 'encoder', 'layers', '10', 'self_attn', 'k_proj', 'kernel'), ('vision_model', 'encoder', 'layers', '0', 'mlp', 'fc2', 'kernel'), ('vision_model', 'encoder', 'layers', '10', 'layer_norm2', 'scale'), ('vision_model', 'encoder', 'layers', '3', 'self_attn', 'v_proj', 'kernel'), ('vision_model', 'encoder', 'layers', '3', 'self_attn', 'k_proj', 'kernel'), ('vision_model', 'encoder', 'layers', '9', 'self_attn', 'v_proj', 'bias'), ('vision_model', 'encoder', 'layers', '9', 'self_attn', 'v_proj', 'kernel'), ('vision_model', 'encoder', 'layers', '5', 'layer_norm2', 'bias'), ('vision_model', 'encoder', 'layers', '4', 'mlp', 'fc2', 'kernel'), ('vision_model', 'encoder', 'layers', '0', 'mlp', 'fc2', 'bias'), ('vision_model', 'encoder', 'layers', '10', 'self_attn', 'v_proj', 'kernel'), ('vision_model', 'encoder', 'layers', '3', 'self_attn', 'v_proj', 'bias'), ('vision_model', 'encoder', 'layers', '9', 'layer_norm1', 'scale'), ('vision_model', 'encoder', 'layers', '9', 'layer_norm2', 'bias'), ('vision_model', 'post_layernorm', 'scale'), ('vision_model', 'encoder', 'layers', '11', 'self_attn', 'q_proj', 'bias'), ('vision_model', 'encoder', 'layers', '6', 'layer_norm1', 'scale'), ('vision_model', 'encoder', 'layers', '0', 'mlp', 'fc1', 'bias'), ('vision_model', 'encoder', 'layers', '11', 'layer_norm1', 'bias'), ('vision_model', 'encoder', 'layers', '5', 'self_attn', 'k_proj', 'kernel'), ('vision_model', 'encoder', 'layers', '5', 'self_attn', 'k_proj', 'bias'), ('vision_model', 'encoder', 'layers', '5', 'self_attn', 'v_proj', 'bias'), ('vision_model', 'encoder', 'layers', '7', 'self_attn', 'out_proj', 'kernel'), ('vision_model', 'encoder', 'layers', '7', 'self_attn', 'out_proj', 'bias'), ('vision_model', 'encoder', 'layers', '1', 'self_attn', 'q_proj', 'bias'), ('vision_model', 'encoder', 'layers', '2', 'self_attn', 'out_proj', 'bias'), ('logit_scale',), ('vision_model', 'encoder', 'layers', '8', 'layer_norm2', 'scale'), ('vision_model', 'encoder', 'layers', '0', 'self_attn', 'q_proj', 'kernel'), ('vision_model', 'encoder', 'layers', '0', 'self_attn', 'q_proj', 'bias'), ('vision_model', 'encoder', 'layers', '3', 'self_attn', 'out_proj', 'kernel'), ('vision_model', 'encoder', 'layers', '3', 'mlp', 'fc2', 'bias'), ('vision_model', 'encoder', 'layers', '4', 'self_attn', 'q_proj', 'kernel'), ('vision_model', 'encoder', 'layers', '8', 'self_attn', 'q_proj', 'kernel'), ('vision_model', 'embeddings', 'position_embedding', 'embedding'), ('vision_model', 'encoder', 'layers', '4', 'layer_norm2', 'scale'), ('vision_model', 'encoder', 'layers', '3', 'mlp', 'fc2', 'kernel'), ('vision_model', 'encoder', 'layers', '3', 'layer_norm1', 'scale'), ('vision_model', 'post_layernorm', 'bias'), ('vision_model', 'encoder', 'layers', '6', 'self_attn', 'q_proj', 'bias'), ('vision_model', 'encoder', 'layers', '6', 'layer_norm1', 'bias'), ('vision_model', 'encoder', 'layers', '11', 'self_attn', 'out_proj', 'bias'), ('vision_model', 'encoder', 'layers', '7', 'layer_norm1', 'bias'), ('vision_model', 'encoder', 'layers', '2', 'layer_norm2', 'scale'), ('vision_model', 'encoder', 'layers', '7', 'self_attn', 'k_proj', 'kernel'), ('vision_model', 'encoder', 'layers', '5', 'self_attn', 'out_proj', 'kernel'), ('vision_model', 'encoder', 'layers', '7', 'self_attn', 'k_proj', 'bias'), ('vision_model', 'embeddings', 'class_embedding'), ('vision_model', 'encoder', 'layers', '7', 'self_attn', 'v_proj', 'bias'), ('vision_model', 'encoder', 'layers', '9', 'self_attn', 'q_proj', 'kernel'), ('vision_model', 'encoder', 'layers', '5', 'layer_norm1', 'scale'), ('vision_model', 'encoder', 'layers', '9', 'self_attn', 'q_proj', 'bias'), ('vision_model', 'encoder', 'layers', '3', 'self_attn', 'q_proj', 'kernel'), ('vision_model', 'encoder', 'layers', '3', 'self_attn', 'q_proj', 'bias'), ('vision_model', 'encoder', 'layers', '8', 'self_attn', 'out_proj', 'kernel'), ('vision_model', 'encoder', 'layers', '8', 'self_attn', 'out_proj', 'bias'), ('vision_model', 'encoder', 'layers', '2', 'self_attn', 'k_proj', 'kernel'), ('vision_model', 'encoder', 'layers', '2', 'self_attn', 'v_proj', 'kernel'), ('vision_model', 'encoder', 'layers', '11', 'mlp', 'fc2', 'bias'), ('vision_model', 'encoder', 'layers', '2', 'self_attn', 'v_proj', 'bias'), ('vision_model', 'encoder', 'layers', '1', 'layer_norm1', 'scale'), ('vision_model', 'encoder', 'layers', '11', 'self_attn', 'q_proj', 'kernel'), ('vision_model', 'encoder', 'layers', '6', 'mlp', 'fc2', 'kernel'), ('vision_model', 'encoder', 'layers', '2', 'layer_norm2', 'bias'), ('vision_model', 'encoder', 'layers', '6', 'mlp', 'fc2', 'bias'), ('vision_model', 'encoder', 'layers', '7', 'mlp', 'fc1', 'bias'), ('vision_model', 'encoder', 'layers', '0', 'mlp', 'fc1', 'kernel'), ('vision_model', 'encoder', 'layers', '1', 'mlp', 'fc2', 'bias'), ('vision_model', 'encoder', 'layers', '5', 'layer_norm1', 'bias'), ('vision_model', 'encoder', 'layers', '11', 'layer_norm2', 'scale'), ('vision_model', 'encoder', 'layers', '4', 'mlp', 'fc1', 'kernel'), ('vision_model', 'encoder', 'layers', '9', 'self_attn', 'out_proj', 'kernel'), ('vision_model', 'encoder', 'layers', '9', 'self_attn', 'out_proj', 'bias'), ('vision_model', 'encoder', 'layers', '6', 'mlp', 'fc1', 'kernel'), ('vision_model', 'encoder', 'layers', '6', 'mlp', 'fc1', 'bias'), ('vision_model', 'encoder', 'layers', '5', 'self_attn', 'v_proj', 'kernel'), ('vision_model', 'encoder', 'layers', '4', 'mlp', 'fc1', 'bias'), ('vision_model', 'encoder', 'layers', '2', 'mlp', 'fc2', 'kernel'), ('vision_model', 'encoder', 'layers', '5', 'mlp', 'fc2', 'bias'), ('vision_model', 'encoder', 'layers', '5', 'mlp', 'fc2', 'kernel'), ('vision_model', 'encoder', 'layers', '1', 'layer_norm1', 'bias'), ('vision_model', 'encoder', 'layers', '0', 'layer_norm1', 'bias'), ('vision_model', 'encoder', 'layers', '1', 'self_attn', 'q_proj', 'kernel'), ('vision_model', 'encoder', 'layers', '10', 'layer_norm2', 'bias'), ('vision_model', 'encoder', 'layers', '2', 'mlp', 'fc2', 'bias'), ('vision_model', 'encoder', 'layers', '2', 'self_attn', 'out_proj', 'kernel'), ('vision_model', 'encoder', 'layers', '10', 'mlp', 'fc2', 'kernel'), ('vision_model', 'encoder', 'layers', '10', 'mlp', 'fc2', 'bias'), ('vision_model', 'encoder', 'layers', '9', 'layer_norm1', 'bias'), ('vision_model', 'encoder', 'layers', '8', 'mlp', 'fc2', 'kernel'), ('vision_model', 'encoder', 'layers', '5', 'mlp', 'fc1', 'bias'), ('vision_model', 'encoder', 'layers', '5', 'mlp', 'fc1', 'kernel'), ('vision_model', 'encoder', 'layers', '0', 'layer_norm2', 'scale'), ('vision_model', 'encoder', 'layers', '6', 'self_attn', 'q_proj', 'kernel'), ('vision_model', 'encoder', 'layers', '8', 'mlp', 'fc2', 'bias'), ('vision_model', 'encoder', 'layers', '11', 'self_attn', 'out_proj', 'kernel'), ('vision_model', 'encoder', 'layers', '1', 'self_attn', 'out_proj', 'bias'), ('vision_model', 'encoder', 'layers', '10', 'mlp', 'fc1', 'bias'), ('vision_model', 'encoder', 'layers', '3', 'mlp', 'fc1', 'bias'), ('vision_model', 'encoder', 'layers', '7', 'layer_norm2', 'scale'), ('vision_model', 'encoder', 'layers', '0', 'self_attn', 'out_proj', 'kernel'), ('vision_model', 'encoder', 'layers', '0', 'self_attn', 'out_proj', 'bias'), ('vision_model', 'encoder', 'layers', '8', 'mlp', 'fc1', 'bias'), ('vision_model', 'encoder', 'layers', '6', 'layer_norm2', 'scale'), ('vision_model', 'encoder', 'layers', '7', 'self_attn', 'v_proj', 'kernel'), ('vision_model', 'encoder', 'layers', '7', 'self_attn', 'q_proj', 'kernel'), ('vision_model', 'encoder', 'layers', '7', 'self_attn', 'q_proj', 'bias'), ('vision_model', 'encoder', 'layers', '8', 'layer_norm1', 'scale'), ('vision_model', 'encoder', 'layers', '2', 'self_attn', 'q_proj', 'kernel'), ('vision_model', 'encoder', 'layers', '2', 'self_attn', 'q_proj', 'bias'), ('vision_model', 'encoder', 'layers', '8', 'layer_norm2', 'bias'), ('vision_model', 'encoder', 'layers', '4', 'layer_norm1', 'scale'), ('vision_model', 'encoder', 'layers', '6', 'self_attn', 'out_proj', 'bias'), ('vision_model', 'encoder', 'layers', '4', 'layer_norm2', 'bias'), ('vision_model', 'encoder', 'layers', '3', 'layer_norm1', 'bias'), ('vision_model', 'encoder', 'layers', '10', 'self_attn', 'q_proj', 'kernel'), ('vision_model', 'encoder', 'layers', '10', 'self_attn', 'q_proj', 'bias'), ('vision_model', 'encoder', 'layers', '2', 'layer_norm1', 'scale'), ('vision_model', 'encoder', 'layers', '11', 'mlp', 'fc2', 'kernel'), ('vision_model', 'encoder', 'layers', '11', 'self_attn', 'k_proj', 'kernel'), ('vision_model', 'encoder', 'layers', '11', 'self_attn', 'k_proj', 'bias'), ('vision_model', 'encoder', 'layers', '11', 'self_attn', 'v_proj', 'kernel'), ('vision_model', 'encoder', 'layers', '11', 'self_attn', 'v_proj', 'bias'), ('vision_model', 'encoder', 'layers', '4', 'self_attn', 'out_proj', 'bias'), ('vision_model', 'encoder', 'layers', '4', 'self_attn', 'out_proj', 'kernel'), ('vision_model', 'embeddings', 'patch_embedding', 'kernel'), ('vision_model', 'encoder', 'layers', '0', 'self_attn', 'k_proj', 'kernel'), ('vision_model', 'encoder', 'layers', '0', 'self_attn', 'k_proj', 'bias'), ('vision_model', 'encoder', 'layers', '9', 'mlp', 'fc1', 'bias'), ('vision_model', 'encoder', 'layers', '7', 'layer_norm2', 'bias'), ('vision_model', 'encoder', 'layers', '0', 'self_attn', 'v_proj', 'bias'), ('vision_model', 'encoder', 'layers', '7', 'mlp', 'fc1', 'kernel'), ('vision_model', 'encoder', 'layers', '6', 'layer_norm2', 'bias'), ('vision_model', 'pre_layrnorm', 'scale'), ('vision_model', 'encoder', 'layers', '10', 'layer_norm1', 'scale'), ('vision_model', 'encoder', 'layers', '1', 'mlp', 'fc2', 'kernel'), ('vision_model', 'encoder', 'layers', '1', 'self_attn', 'k_proj', 'kernel'), ('vision_model', 'encoder', 'layers', '1', 'self_attn', 'k_proj', 'bias'), ('vision_model', 'encoder', 'layers', '5', 'self_attn', 'q_proj', 'bias'), ('vision_model', 'encoder', 'layers', '1', 'self_attn', 'v_proj', 'bias'), ('vision_model', 'encoder', 'layers', '10', 'self_attn', 'out_proj', 'kernel'), ('vision_model', 'encoder', 'layers', '10', 'self_attn', 'out_proj', 'bias'), ('vision_model', 'encoder', 'layers', '4', 'self_attn', 'k_proj', 'bias'), ('vision_model', 'encoder', 'layers', '4', 'self_attn', 'v_proj', 'bias'), ('vision_model', 'encoder', 'layers', '6', 'self_attn', 'k_proj', 'bias'), ('vision_model', 'encoder', 'layers', '6', 'self_attn', 'k_proj', 'kernel'), ('vision_model', 'encoder', 'layers', '8', 'self_attn', 'v_proj', 'bias'), ('vision_model', 'encoder', 'layers', '5', 'layer_norm2', 'scale'), ('vision_model', 'encoder', 'layers', '8', 'self_attn', 'k_proj', 'bias'), ('vision_model', 'encoder', 'layers', '4', 'self_attn', 'k_proj', 'kernel'), ('vision_model', 'encoder', 'layers', '6', 'self_attn', 'v_proj', 'bias'), ('vision_model', 'encoder', 'layers', '9', 'layer_norm2', 'scale'), ('vision_model', 'encoder', 'layers', '1', 'layer_norm2', 'scale'), ('vision_model', 'encoder', 'layers', '2', 'mlp', 'fc1', 'bias'), ('vision_model', 'encoder', 'layers', '11', 'layer_norm2', 'bias'), ('vision_model', 'encoder', 'layers', '1', 'self_attn', 'out_proj', 'kernel'), ('vision_model', 'encoder', 'layers', '3', 'mlp', 'fc1', 'kernel'), ('vision_model', 'encoder', 'layers', '10', 'mlp', 'fc1', 'kernel'), ('vision_model', 'encoder', 'layers', '8', 'mlp', 'fc1', 'kernel'), ('vision_model', 'encoder', 'layers', '9', 'mlp', 'fc2', 'bias'), ('vision_model', 'encoder', 'layers', '9', 'mlp', 'fc2', 'kernel'), ('vision_model', 'encoder', 'layers', '9', 'self_attn', 'k_proj', 'bias'), ('vision_model', 'encoder', 'layers', '10', 'self_attn', 'k_proj', 'bias'), ('vision_model', 'encoder', 'layers', '3', 'self_attn', 'k_proj', 'bias'), ('vision_model', 'encoder', 'layers', '10', 'self_attn', 'v_proj', 'bias'), ('vision_model', 'encoder', 'layers', '4', 'mlp', 'fc2', 'bias'), ('vision_model', 'encoder', 'layers', '6', 'self_attn', 'out_proj', 'kernel'), ('vision_model', 'encoder', 'layers', '3', 'layer_norm2', 'scale'), ('vision_model', 'encoder', 'layers', '1', 'layer_norm2', 'bias'), ('vision_model', 'encoder', 'layers', '0', 'layer_norm2', 'bias'), ('vision_model', 'encoder', 'layers', '7', 'layer_norm1', 'scale'), ('vision_model', 'encoder', 'layers', '9', 'mlp', 'fc1', 'kernel'), ('vision_model', 'encoder', 'layers', '0', 'self_attn', 'v_proj', 'kernel'), ('vision_model', 'encoder', 'layers', '8', 'layer_norm1', 'bias'), ('vision_model', 'encoder', 'layers', '11', 'mlp', 'fc1', 'kernel'), ('vision_model', 'encoder', 'layers', '3', 'self_attn', 'out_proj', 'bias'), ('vision_model', 'encoder', 'layers', '5', 'self_attn', 'q_proj', 'kernel'), ('vision_model', 'encoder', 'layers', '4', 'self_attn', 'q_proj', 'bias'), ('vision_model', 'encoder', 'layers', '8', 'self_attn', 'q_proj', 'bias'), ('vision_model', 'encoder', 'layers', '4', 'layer_norm1', 'bias'), ('vision_model', 'encoder', 'layers', '1', 'self_attn', 'v_proj', 'kernel'), ('vision_model', 'encoder', 'layers', '11', 'mlp', 'fc1', 'bias'), ('vision_model', 'encoder', 'layers', '3', 'layer_norm2', 'bias'), ('vision_model', 'encoder', 'layers', '2', 'layer_norm1', 'bias')}\n",
            "- This IS expected if you are initializing FlaxCLIPTextModelWithProjection from the checkpoint of a model trained on another task or with another architecture (e.g. initializing a BertForSequenceClassification model from a BertForPreTraining model).\n",
            "- This IS NOT expected if you are initializing FlaxCLIPTextModelWithProjection from the checkpoint of a model that you expect to be exactly identical (initializing a BertForSequenceClassification model from a BertForSequenceClassification model).\n"
          ]
        }
      ],
      "source": [
        "# Load the model and tokenizer\n",
        "model = FlaxCLIPTextModelWithProjection.from_pretrained(\"openai/clip-vit-base-patch32\")\n",
        "tokenizer = AutoTokenizer.from_pretrained(\"openai/clip-vit-base-patch32\")"
      ]
    },
    {
      "cell_type": "code",
      "execution_count": 24,
      "metadata": {
        "id": "ecUKKLNbzqsn"
      },
      "outputs": [],
      "source": [
        "# Tokenize input text\n",
        "inputs = tokenizer([\"White boxer puppy\"], padding=True, return_tensors=\"np\")"
      ]
    },
    {
      "cell_type": "code",
      "execution_count": 25,
      "metadata": {
        "id": "r8tJtjmjzvLO"
      },
      "outputs": [],
      "source": [
        "# Get model outputs\n",
        "outputs = model(**inputs)\n",
        "text_embeds = outputs.text_embeds  # This is the projection output used for capturing the essence of the input"
      ]
    },
    {
      "cell_type": "code",
      "execution_count": 26,
      "metadata": {
        "id": "jJJEh6p_zwD9"
      },
      "outputs": [],
      "source": [
        "# Convert JAX array to numpy array and then to list for Pinecone query\n",
        "query = np.array(text_embeds).tolist()"
      ]
    },
    {
      "cell_type": "markdown",
      "metadata": {
        "id": "djUnIigd48AQ"
      },
      "source": [
        "##Setting up the query"
      ]
    },
    {
      "cell_type": "code",
      "execution_count": 27,
      "metadata": {
        "id": "l50A5rrJzxle"
      },
      "outputs": [],
      "source": [
        "# Now query Pinecone\n",
        "xc = index.query(vector=query, top_k=10, include_metadata=True)"
      ]
    },
    {
      "cell_type": "code",
      "execution_count": 28,
      "metadata": {
        "colab": {
          "base_uri": "https://localhost:8080/"
        },
        "id": "SNpQm4yYzy6f",
        "outputId": "77f06614-8893-423b-8ccd-1284d8990189"
      },
      "outputs": [
        {
          "data": {
            "text/plain": [
              "{'matches': [{'id': '7331-1173',\n",
              "              'metadata': {'caption': 'Blue / Eyed / Babe / Dog / Animal / '\n",
              "                                      'Cute / Puppies / Puppy / Douceur / '\n",
              "                                      'Bestiole / Mignon / Little Dog / '\n",
              "                                      'Portrait',\n",
              "                           'url': 'https://i.pinimg.com/564x/4c/47/f0/4c47f05c6460f0541cd661584bd3d89e.jpg'},\n",
              "              'score': 0.342332,\n",
              "              'values': []},\n",
              "             {'id': '40834-8397',\n",
              "              'metadata': {'caption': 'We love our new white boxer puppy!',\n",
              "                           'url': 'https://i.pinimg.com/736x/a0/f7/6d/a0f76da678ec389cb728d10800a75f26--white-boxer-puppies-white-boxers.jpg'},\n",
              "              'score': 0.342070848,\n",
              "              'values': []},\n",
              "             {'id': '36425-3168',\n",
              "              'metadata': {'caption': '365 11web Cute Animals Puppies Animals '\n",
              "                                      'Beautiful',\n",
              "                           'url': 'https://i.pinimg.com/originals/81/d8/b5/81d8b5eafc9c2211c4f7d5ecef18a1d2.jpg'},\n",
              "              'score': 0.341838092,\n",
              "              'values': []},\n",
              "             {'id': '34477-4097',\n",
              "              'metadata': {'caption': 'American Bulldog Puppy Is Eating A '\n",
              "                                      'Chicken Paw On Nature Stock Photo '\n",
              "                                      'Sponsored Puppy Eating In 2020 American '\n",
              "                                      'Bulldog Puppies Bulldog Puppies '\n",
              "                                      'American Bulldog',\n",
              "                           'url': 'https://i.pinimg.com/originals/50/0d/3d/500d3d4711805037e0771fa95db76cc4.jpg'},\n",
              "              'score': 0.341325432,\n",
              "              'values': []},\n",
              "             {'id': '6857-4548',\n",
              "              'metadata': {'caption': 'Dogo Argentino Puppy stock image  Image '\n",
              "                                      'of terrier, puppy - 99620395',\n",
              "                           'url': 'https://thumbs.dreamstime.com/z/day-park-herd-curious-left-pirate-puppy-intrepid-looking-towards-camera-pit-bull-terrier-dogo-argentino-99620395.jpg'},\n",
              "              'score': 0.33507508,\n",
              "              'values': []},\n",
              "             {'id': '2352-2876',\n",
              "              'metadata': {'caption': 'free bulldog puppies bulldog puppy for '\n",
              "                                      'sale american bulldog puppies for sale '\n",
              "                                      'bruiser',\n",
              "                           'url': 'http://tse1.mm.bing.net/th?id=OIP.xuI_BBPp9gY0S1lxynBnPQHaE8'},\n",
              "              'score': 0.331911385,\n",
              "              'values': []},\n",
              "             {'id': '37260-5811',\n",
              "              'metadata': {'caption': 'bulldog puppie bulldog puppy for sale '\n",
              "                                      'american bulldog puppies for sale '\n",
              "                                      'bruiser',\n",
              "                           'url': 'http://tse1.mm.bing.net/th?id=OIP.xuI_BBPp9gY0S1lxynBnPQHaE8'},\n",
              "              'score': 0.331911385,\n",
              "              'values': []},\n",
              "             {'id': '9470-9945',\n",
              "              'metadata': {'caption': 'Image Gallery white pitbull',\n",
              "                           'url': 'http://pitbullregistry.com/web/images/white-pit-bull-puppy-picture-1.jpg'},\n",
              "              'score': 0.331792116,\n",
              "              'values': []},\n",
              "             {'id': '407-6069',\n",
              "              'metadata': {'caption': 'Staffordshire Bull Terrier looking up '\n",
              "                                      'Stock Photo - Rights-Managed, Code: '\n",
              "                                      '859-06725098',\n",
              "                           'url': 'https://image1.masterfile.com/getImage/ODU5LTA2NzI1MDk4ZW4uMDAwMDAwMDA=ADBV6U/859-06725098en_Masterfile.jpg'},\n",
              "              'score': 0.330526948,\n",
              "              'values': []},\n",
              "             {'id': '31393-9978',\n",
              "              'metadata': {'caption': 'how much are bulldog puppies bulldog '\n",
              "                                      'puppy for sale american bulldog puppies '\n",
              "                                      'for sale bruiser',\n",
              "                           'url': 'http://tse1.mm.bing.net/th?id=OIP.CcJAHU1B65sa8VRhAw28ggHaE8'},\n",
              "              'score': 0.328943729,\n",
              "              'values': []}],\n",
              " 'namespace': '',\n",
              " 'usage': {'read_units': 148}}"
            ]
          },
          "execution_count": 28,
          "metadata": {},
          "output_type": "execute_result"
        }
      ],
      "source": [
        "xc"
      ]
    },
    {
      "cell_type": "markdown",
      "metadata": {
        "id": "GKKr8YXU0ZJn"
      },
      "source": [
        "##Display Text Search"
      ]
    },
    {
      "cell_type": "code",
      "execution_count": 29,
      "metadata": {
        "id": "uAPYxzpJ0Yl-"
      },
      "outputs": [],
      "source": [
        "# Assuming 'xc' contains your Pinecone query results and 'matches' is part of 'xc'\n",
        "html_content = \"<h2>Text Results</h2>\"\n",
        "for match in xc['matches']:\n",
        "    caption = match['metadata'].get('caption', 'No caption available')\n",
        "    url = match['metadata'].get('url', '')\n",
        "\n",
        "    try:\n",
        "        # Attempt to retrieve and display the image\n",
        "        image_response = requests.get(url)\n",
        "        image = Image.open(BytesIO(image_response.content))\n",
        "        img_tag = f\"<img src='{url}' width='300'>\"\n",
        "    except requests.exceptions.SSLError as e:\n",
        "        print(f\"SSL Error for URL {url}: {e}\")\n",
        "        img_tag = \"<p>Image not available due to SSL error.</p>\"\n",
        "    except Exception as e:\n",
        "        print(f\"General Error for URL {url}: {e}\")\n",
        "        img_tag = \"<p>Image not available due to general error.</p>\"\n",
        "\n",
        "    html_content += f\"<div style='margin-bottom: 20px;'><h4>{caption}</h4>{img_tag}<br>Score: {match['score']:.4f}</div>\""
      ]
    },
    {
      "cell_type": "code",
      "execution_count": 30,
      "metadata": {
        "colab": {
          "base_uri": "https://localhost:8080/",
          "height": 1000
        },
        "id": "rBI1gxli0ecw",
        "outputId": "4d325017-0bce-46d5-978d-63082818def9"
      },
      "outputs": [
        {
          "data": {
            "text/html": [
              "<h2>Text Results</h2><div style='margin-bottom: 20px;'><h4>Blue / Eyed / Babe / Dog / Animal / Cute / Puppies / Puppy / Douceur / Bestiole / Mignon / Little Dog / Portrait</h4><img src='https://i.pinimg.com/564x/4c/47/f0/4c47f05c6460f0541cd661584bd3d89e.jpg' width='300'><br>Score: 0.3423</div><div style='margin-bottom: 20px;'><h4>We love our new white boxer puppy!</h4><img src='https://i.pinimg.com/736x/a0/f7/6d/a0f76da678ec389cb728d10800a75f26--white-boxer-puppies-white-boxers.jpg' width='300'><br>Score: 0.3421</div><div style='margin-bottom: 20px;'><h4>365 11web Cute Animals Puppies Animals Beautiful</h4><img src='https://i.pinimg.com/originals/81/d8/b5/81d8b5eafc9c2211c4f7d5ecef18a1d2.jpg' width='300'><br>Score: 0.3418</div><div style='margin-bottom: 20px;'><h4>American Bulldog Puppy Is Eating A Chicken Paw On Nature Stock Photo Sponsored Puppy Eating In 2020 American Bulldog Puppies Bulldog Puppies American Bulldog</h4><img src='https://i.pinimg.com/originals/50/0d/3d/500d3d4711805037e0771fa95db76cc4.jpg' width='300'><br>Score: 0.3413</div><div style='margin-bottom: 20px;'><h4>Dogo Argentino Puppy stock image  Image of terrier, puppy - 99620395</h4><img src='https://thumbs.dreamstime.com/z/day-park-herd-curious-left-pirate-puppy-intrepid-looking-towards-camera-pit-bull-terrier-dogo-argentino-99620395.jpg' width='300'><br>Score: 0.3351</div><div style='margin-bottom: 20px;'><h4>free bulldog puppies bulldog puppy for sale american bulldog puppies for sale bruiser</h4><img src='http://tse1.mm.bing.net/th?id=OIP.xuI_BBPp9gY0S1lxynBnPQHaE8' width='300'><br>Score: 0.3319</div><div style='margin-bottom: 20px;'><h4>bulldog puppie bulldog puppy for sale american bulldog puppies for sale bruiser</h4><img src='http://tse1.mm.bing.net/th?id=OIP.xuI_BBPp9gY0S1lxynBnPQHaE8' width='300'><br>Score: 0.3319</div><div style='margin-bottom: 20px;'><h4>Image Gallery white pitbull</h4><img src='http://pitbullregistry.com/web/images/white-pit-bull-puppy-picture-1.jpg' width='300'><br>Score: 0.3318</div><div style='margin-bottom: 20px;'><h4>Staffordshire Bull Terrier looking up Stock Photo - Rights-Managed, Code: 859-06725098</h4><img src='https://image1.masterfile.com/getImage/ODU5LTA2NzI1MDk4ZW4uMDAwMDAwMDA=ADBV6U/859-06725098en_Masterfile.jpg' width='300'><br>Score: 0.3305</div><div style='margin-bottom: 20px;'><h4>how much are bulldog puppies bulldog puppy for sale american bulldog puppies for sale bruiser</h4><img src='http://tse1.mm.bing.net/th?id=OIP.CcJAHU1B65sa8VRhAw28ggHaE8' width='300'><br>Score: 0.3289</div>"
            ],
            "text/plain": [
              "<IPython.core.display.HTML object>"
            ]
          },
          "metadata": {},
          "output_type": "display_data"
        }
      ],
      "source": [
        "# Display the HTML content\n",
        "display(HTML(html_content))"
      ]
    },
    {
      "cell_type": "markdown",
      "metadata": {
        "id": "EhwRNQWm5STP"
      },
      "source": [
        "#Using this for day to day work"
      ]
    },
    {
      "cell_type": "code",
      "execution_count": 31,
      "metadata": {
        "colab": {
          "base_uri": "https://localhost:8080/"
        },
        "id": "gI53cOApcF5r",
        "outputId": "2b2ceaa3-001d-4f39-e0c5-fbb88464db4b"
      },
      "outputs": [
        {
          "name": "stdout",
          "output_type": "stream",
          "text": [
            "           id                                           metadata vector   \n",
            "0   7331-1173  {'caption': 'Blue / Eyed / Babe / Dog / Animal...     []  \\\n",
            "1  40834-8397  {'caption': 'We love our new white boxer puppy...     []   \n",
            "2  36425-3168  {'caption': '365 11web Cute Animals Puppies An...     []   \n",
            "3  34477-4097  {'caption': 'American Bulldog Puppy Is Eating ...     []   \n",
            "4   6857-4548  {'caption': 'Dogo Argentino Puppy stock image ...     []   \n",
            "5   2352-2876  {'caption': 'free bulldog puppies bulldog pupp...     []   \n",
            "6  37260-5811  {'caption': 'bulldog puppie bulldog puppy for ...     []   \n",
            "7   9470-9945  {'caption': 'Image Gallery white pitbull', 'ur...     []   \n",
            "8    407-6069  {'caption': 'Staffordshire Bull Terrier lookin...     []   \n",
            "9  31393-9978  {'caption': 'how much are bulldog puppies bull...     []   \n",
            "\n",
            "         label  \n",
            "0  white boxer  \n",
            "1  white boxer  \n",
            "2  white boxer  \n",
            "3  white boxer  \n",
            "4  white boxer  \n",
            "5  white boxer  \n",
            "6  white boxer  \n",
            "7  white boxer  \n",
            "8  white boxer  \n",
            "9  white boxer  \n"
          ]
        }
      ],
      "source": [
        "import pandas as pd\n",
        "\n",
        "# Your existing matches data from Pinecone response\n",
        "matches = xc['matches']\n",
        "\n",
        "# Prompt user to input a label\n",
        "input_label = input(\"Please enter a label for these images: \")\n",
        "\n",
        "# Convert each entry to include label\n",
        "data = []\n",
        "for match in matches:\n",
        "    entry = {\n",
        "        \"id\": match['id'],\n",
        "        \"metadata\": match['metadata'],\n",
        "        \"vector\": match.get('values', []),  # Use .get() to avoid KeyError if 'values' is absent\n",
        "        \"label\": input_label\n",
        "    }\n",
        "    data.append(entry)\n",
        "\n",
        "# Create a DataFrame\n",
        "df = pd.DataFrame(data)\n",
        "\n",
        "# Display the DataFrame\n",
        "print(df)"
      ]
    },
    {
      "cell_type": "code",
      "execution_count": 32,
      "metadata": {
        "colab": {
          "base_uri": "https://localhost:8080/",
          "height": 209,
          "referenced_widgets": [
            "c253d8b10bb64cadbeba516ea2d62b3b",
            "81238c0168b8422780751a4abaac6e18",
            "dc45e0334a48448eb68e9c9278bc0b59",
            "f4746fc3e7c64a68bd20121e0d12736a",
            "d35cf72e09f640ca9025d1b773629b8e",
            "7bac93b049414f93a6d09ab7ab3a525e",
            "e24c0f52b65b40a8b81c223f05cff3c6",
            "0f1d4b6836a9468c9c8d549af921707f",
            "c52b779dc17d41c89c4f66957e4297b7",
            "8ecfb6cbbb4b429a9e4b80efc1287baf",
            "a25929343941433a99932832a8e50b1a",
            "1739b29815984ce79bd5802ad49b913c",
            "a39801e31110426faa9924061062fa80",
            "0620f55213ef410db24e01e51ec8a3b8",
            "b5fbe9227d60479eb16c9df7248979d6",
            "abf65a190b3e47939e9e1f05c501500a",
            "9b9bd91da4c14a2dbc4664e287f85c85",
            "b6510a3817ae4358962d41be4ad56995",
            "789664913dc84d45a821118992176aeb",
            "7367db76b0a24a2f9011cf87141e6307",
            "ec2c211b31c141e39cb0793cd92aa9dd",
            "1545c96d67f74450a1a7f15446d4565a",
            "4503c7e3e6144a50862f6638686bbf60",
            "b50761afc10344b49022ff7173d994df",
            "6c14066b8d174866966f71d64cf1d5e4",
            "e4f16c89cba84709a6d42884b2c1d584",
            "003cd584dd3643c1987bbcd5ed5cd7ca",
            "37ecc802e2fc4fbea649a90a00bd4fab",
            "c5e6876d48c4428d86bb7aa31cad456f",
            "b08bbef517ac47d3819342401de9e671",
            "84b1f01a5ddd4eb38a87bcf0391364ec",
            "f2759b68d0db43dd9cfeedba0bac6cf8",
            "abbe1f8db0614089b04b18a3a50a0e86",
            "6d85b783f2044374ad2b6bad1a44acaa",
            "c58ed2af20394014af9bd0cb6dd80363",
            "7b947b86e90d481284bff22e45fe679d",
            "4229c9d8b0e24a7ea642c22ff0b4d0a7",
            "831def60de4a41d1b3d89bbab006092a",
            "b26184f1f42c40fe8ba612fc9b723011",
            "6bf0d0a604e445f8a29a515b3c8706c4",
            "acb83848b8594fa88d38c4ded7b1d993",
            "9c427d9bc4ce4093941bc13644b6833d",
            "fa18b62878bc45569449afd8939778e0",
            "95693fac55f84ba89df0fe3cd1b43ca8",
            "7014f93ff79243e6826aaf3ba2374bc9",
            "e5110a8a24e041c588ebce4bc1eef7b5",
            "2992f05aca9b4e3996eb0143de3be615",
            "ab32d4c8228c456fbbcbd769b3626764",
            "09e43650679a48f1978053ad0efb53c3",
            "0a4e275b62654d00be8f6a718bc4cd41",
            "717016fe06204687895c5a3d466fd9c2",
            "c60b14a3e7114c50822031a1c37316e0",
            "074d4f31bcf842d9957093869f571e50",
            "e35e06ad6252467f874a02a2bb3d0d28",
            "dff981f72c144a70ad48d1c5e920e7cb",
            "4ba2b1cb68d74f709dd737dff44ec726",
            "95beb1df2f29459087136d5cba80acd9",
            "8706b32a1858465c9e140da34774f6c9",
            "832320ca5f044ed49f46923d4b5c336f",
            "b9adbdf168d8442e81cb9b6cb3900501",
            "86fc58a856754aa0b3366b29c76adf45",
            "eb244cf2cd1e42278b1a9e6fa3d69d20",
            "d81b73e8714540d4b2d3b8dccf00a5c4",
            "77b0f9ac32084de3806a076bf1b3bf94",
            "e16aa201ef91459ba80e430891bfd329",
            "4feb66a538ea4302834f9c59218bf8d6"
          ]
        },
        "id": "HSPP_84sa7D6",
        "outputId": "99fd436a-a376-414a-a636-8f800c6b4bec"
      },
      "outputs": [
        {
          "name": "stderr",
          "output_type": "stream",
          "text": [
            "config.json: 100%|██████████| 1.15k/1.15k [00:00<00:00, 8.67MB/s]\n",
            "model.safetensors: 100%|██████████| 1.63G/1.63G [02:54<00:00, 9.33MB/s]\n",
            "tokenizer_config.json: 100%|██████████| 26.0/26.0 [00:00<00:00, 181kB/s]\n",
            "vocab.json: 100%|██████████| 899k/899k [00:00<00:00, 4.42MB/s]\n",
            "merges.txt: 100%|██████████| 456k/456k [00:00<00:00, 6.94MB/s]\n",
            "tokenizer.json: 100%|██████████| 1.36M/1.36M [00:00<00:00, 7.93MB/s]\n"
          ]
        },
        {
          "ename": "",
          "evalue": "",
          "output_type": "error",
          "traceback": [
            "\u001b[1;31mThe Kernel crashed while executing code in the current cell or a previous cell. \n",
            "\u001b[1;31mPlease review the code in the cell(s) to identify a possible cause of the failure. \n",
            "\u001b[1;31mClick <a href='https://aka.ms/vscodeJupyterKernelCrash'>here</a> for more info. \n",
            "\u001b[1;31mView Jupyter <a href='command:jupyter.viewOutput'>log</a> for further details."
          ]
        }
      ],
      "source": [
        "from transformers import pipeline\n",
        "\n",
        "classifier = pipeline(\"zero-shot-classification\", model=\"facebook/bart-large-mnli\")\n",
        "\n",
        "def auto_label_image(caption, candidate_labels):\n",
        "    result = classifier(caption, candidate_labels)\n",
        "    return result['labels'][0]\n",
        "\n",
        "# Sample usage within batch processing\n",
        "def process_batch_with_autolabel(matches, candidate_labels):\n",
        "    data = []\n",
        "    for match in matches:\n",
        "        auto_label = auto_label_image(match['metadata']['caption'], candidate_labels)\n",
        "        entry = {\n",
        "            \"id\": match['id'],\n",
        "            \"caption\": match['metadata']['caption'],\n",
        "            \"url\": match['metadata']['url'],\n",
        "            \"vector\": match.get('values', []),\n",
        "            \"label\": auto_label\n",
        "        }\n",
        "        data.append(entry)\n",
        "    return data"
      ]
    },
    {
      "cell_type": "code",
      "execution_count": null,
      "metadata": {
        "colab": {
          "base_uri": "https://localhost:8080/"
        },
        "id": "tiZTEWIVdCqE",
        "outputId": "7da9c380-6d4a-4da6-9b11-fbadc42b4807"
      },
      "outputs": [
        {
          "name": "stdout",
          "output_type": "stream",
          "text": [
            "[{'id': '31631-5278', 'metadata': {'caption': 'san-francisco-bay-bridge-2-2', 'url': 'https://photos.smugmug.com/SanFrancisco/The-Bay-Bridge/i-RFTJrtm/0/5584af6b/S/san-francisco-bay-bridge-2-2-S.jpg'}, 'vector': [], 'label': 'San Francisco'}, {'id': '32767-7382', 'metadata': {'caption': 'San Francisco in de mist', 'url': 'https://thumbs.werkaandemuur.nl/1/5ef236a7da08566a2c4519ac887096c1/568x550/thumbnail/fit.jpg'}, 'vector': [], 'label': 'San Francisco'}, {'id': '34611-9061', 'metadata': {'caption': 'View to San Francisco from north side of Golden Gate Bridge', 'url': 'https://photos.smugmug.com/Holidays/USA/San-Francisco-October-2017/i-5B6zZ6B/0/135bb2cf/L/P1260486-2-L.jpg'}, 'vector': [], 'label': 'San Francisco'}, {'id': '25912-8282', 'metadata': {'caption': 'San Francisco Skyline', 'url': 'https://images.alexinwanderland.com/wp-content/uploads/2014/05/SanFran_026.jpg.optimal.jpg'}, 'vector': [], 'label': 'San Francisco'}, {'id': '30381-9768', 'metadata': {'caption': 'Bay Bridge', 'url': 'http://1.bp.blogspot.com/-4RM4_uIUBXQ/UWLsB6U51HI/AAAAAAAAJ0E/RZ1H8Nd6Zao/s640/IMG_1491.JPG'}, 'vector': [], 'label': 'San Francisco'}, {'id': '23632-2475', 'metadata': {'caption': 'Golden Gate Vista de Crissy Field', 'url': 'https://img.paraviagem.com.br/uploads/2013/10/san-francisco-20-215x135.jpg'}, 'vector': [], 'label': 'San Francisco'}, {'id': '1192-4425', 'metadata': {'caption': 'San Francisco–Oakland Bay Bridge at dusk wallpaper', 'url': 'https://backiee.com/static/wpdb/wallpapers/560x315/173534.jpg'}, 'vector': [], 'label': 'San Francisco'}, {'id': '34024-8544', 'metadata': {'caption': 'things to do in san francisco, california', 'url': 'https://theatlasheart.com/wp-content/uploads/2018/10/0AFC72D9-5600-400B-A0CA-2A75EE0AB644-e1572546114638.jpg'}, 'vector': [], 'label': 'San Francisco'}, {'id': '21718-1794', 'metadata': {'caption': 'When ___ you ___ to San Francisco (go)', 'url': 'http://slideplayer.com/slide/2901327/10/images/75/When+___+you+___+to+San+Francisco+(go).jpg'}, 'vector': [], 'label': 'San Francisco'}, {'id': '40652-4793', 'metadata': {'caption': 'where to stay in san francisco, row of houses in street in san francisco', 'url': 'https://cms.hostelworld.com/hwblog/wp-content/uploads/sites/2/2019/09/Painted-ladies-@aaronkato.jpg'}, 'vector': [], 'label': 'San Francisco'}, {'id': '7066-6963', 'metadata': {'caption': 'Mission Dolores Park, San Francisco, California', 'url': 'http://media.afar.com/uploads/images/post_images/images/dwqM39Exos/small_11151b30fb1f4410191c716693e0b095?1341888042'}, 'vector': [], 'label': 'San Francisco'}, {'id': '39693-6085', 'metadata': {'caption': 'California, San Francisco, Golden Gate Bridge, Bridge, palm trees, sun, rain, paddle, paddles,', 'url': 'https://trampingman.files.wordpress.com/2017/01/the-golden-gate-bridge.jpg?w=183&h=325'}, 'vector': [], 'label': 'San Francisco'}, {'id': '2390-5122', 'metadata': {'caption': 'View of Golden Gate Bridge from Crissy Field', 'url': 'http://swoondivers.com/wp-content/uploads/2013/04/IMG_4941.jpg'}, 'vector': [], 'label': 'San Francisco'}, {'id': '1416-5166', 'metadata': {'caption': 'San Francisco, Usa - October 29: Famous Painted Ladies Of San Francisco, California, Usa On October', 'url': 'https://static1.bigstockphoto.com/9/5/1/large2/159916973.jpg'}, 'vector': [], 'label': 'San Francisco'}, {'id': '2982-2794', 'metadata': {'caption': 'the Golden Gate in Fog', 'url': 'https://pointesofview.files.wordpress.com/2014/01/bridgefog.jpg?w=288&'}, 'vector': [], 'label': 'San Francisco'}, {'id': '4187-4498', 'metadata': {'caption': \"Looking down the steep hill of Taylor Street in San Francisco's North Beach neighboohood, with Alcatraz and San Francisco Bay seen in the top of the frame.\", 'url': 'https://ssl.c.photoshelter.com/img-get2/I00005rGT4aUv7lI/fill=180x180/fit=/I00005rGT4aUv7lI.jpg'}, 'vector': [], 'label': 'San Francisco'}, {'id': '37831-4923', 'metadata': {'caption': 'Golden Gate Bridge Panorama', 'url': 'https://farm5.staticflickr.com/4428/35831734943_18598a6548_z.jpg'}, 'vector': [], 'label': 'San Francisco'}, {'id': '30020-7554', 'metadata': {'caption': 'Colorful City By The Bay Photograph', 'url': 'http://images.fineartamerica.com/images-medium-large-5/colorful-city-by-the-bay-mitch-shindelbower.jpg'}, 'vector': [], 'label': 'San Francisco'}, {'id': '32145-2332', 'metadata': {'caption': 'a trip to hawk hill in the marin headlands it s just', 'url': 'http://tse1.mm.bing.net/th?id=OIP.broXGDI9isFGum3Fs4qNFAHaE7'}, 'vector': [], 'label': 'San Francisco'}, {'id': '22597-6436', 'metadata': {'caption': 'San Francisco, San Francisco Skyline, Alcatraz, San Francisco Bay, Matted Photo, skyline', 'url': 'https://img-cache.oppcdn.com/fixed/29210/assets/5MzhusCmbXoCD2d4.jpg'}, 'vector': [], 'label': 'San Francisco'}, {'id': '21203-5454', 'metadata': {'caption': 'San Francisco in de mist', 'url': 'https://thumbs.werkaandemuur.nl/1/5ef236a7da08566a2c4519ac887096c1/300x300/thumbnail/fit.jpg'}, 'vector': [], 'label': 'San Francisco'}, {'id': '35451-9656', 'metadata': {'caption': 'Golden Gate Promenade', 'url': 'https://media-cdn.tripadvisor.com/media/photo-s/03/56/ad/57/golden-gate-promenade.jpg'}, 'vector': [], 'label': 'San Francisco'}, {'id': '37670-394', 'metadata': {'caption': '\\u202aGolden Gate Promenade\\u202c', 'url': 'https://media-cdn.tripadvisor.com/media/photo-s/03/56/ad/57/golden-gate-promenade.jpg'}, 'vector': [], 'label': 'San Francisco'}, {'id': '30646-9011', 'metadata': {'caption': 'Retro vintage filtered photo of San Francisco skyline, old film style, USA. - Stock Image', 'url': 'https://n7.alamy.com/zooms/120f0adb39be494f81776eb0e2327382/retro-vintage-filtered-photo-of-san-francisco-skyline-old-film-style-f2c6ce.jpg'}, 'vector': [], 'label': 'San Francisco'}, {'id': '23808-3118', 'metadata': {'caption': 'Retro vintage filtered photo of San Francisco skyline, old film style, USA. - Stock-Bilder', 'url': 'https://n7.alamy.com/zooms/120f0adb39be494f81776eb0e2327382/retro-vintage-filtered-photo-of-san-francisco-skyline-old-film-style-f2c6ce.jpg'}, 'vector': [], 'label': 'San Francisco'}]\n"
          ]
        }
      ],
      "source": [
        "print(data)"
      ]
    },
    {
      "cell_type": "code",
      "execution_count": null,
      "metadata": {
        "id": "HBWp0LnsdUbO"
      },
      "outputs": [],
      "source": []
    }
  ],
  "metadata": {
    "colab": {
      "provenance": []
    },
    "kernelspec": {
      "display_name": "Python 3",
      "name": "python3"
    },
    "language_info": {
      "codemirror_mode": {
        "name": "ipython",
        "version": 3
      },
      "file_extension": ".py",
      "mimetype": "text/x-python",
      "name": "python",
      "nbconvert_exporter": "python",
      "pygments_lexer": "ipython3",
      "version": "3.11.3"
    },
    "widgets": {
      "application/vnd.jupyter.widget-state+json": {
        "003cd584dd3643c1987bbcd5ed5cd7ca": {
          "model_module": "@jupyter-widgets/base",
          "model_module_version": "1.2.0",
          "model_name": "LayoutModel",
          "state": {
            "_model_module": "@jupyter-widgets/base",
            "_model_module_version": "1.2.0",
            "_model_name": "LayoutModel",
            "_view_count": null,
            "_view_module": "@jupyter-widgets/base",
            "_view_module_version": "1.2.0",
            "_view_name": "LayoutView",
            "align_content": null,
            "align_items": null,
            "align_self": null,
            "border": null,
            "bottom": null,
            "display": null,
            "flex": null,
            "flex_flow": null,
            "grid_area": null,
            "grid_auto_columns": null,
            "grid_auto_flow": null,
            "grid_auto_rows": null,
            "grid_column": null,
            "grid_gap": null,
            "grid_row": null,
            "grid_template_areas": null,
            "grid_template_columns": null,
            "grid_template_rows": null,
            "height": null,
            "justify_content": null,
            "justify_items": null,
            "left": null,
            "margin": null,
            "max_height": null,
            "max_width": null,
            "min_height": null,
            "min_width": null,
            "object_fit": null,
            "object_position": null,
            "order": null,
            "overflow": null,
            "overflow_x": null,
            "overflow_y": null,
            "padding": null,
            "right": null,
            "top": null,
            "visibility": null,
            "width": null
          }
        },
        "0620f55213ef410db24e01e51ec8a3b8": {
          "model_module": "@jupyter-widgets/controls",
          "model_module_version": "1.5.0",
          "model_name": "FloatProgressModel",
          "state": {
            "_dom_classes": [],
            "_model_module": "@jupyter-widgets/controls",
            "_model_module_version": "1.5.0",
            "_model_name": "FloatProgressModel",
            "_view_count": null,
            "_view_module": "@jupyter-widgets/controls",
            "_view_module_version": "1.5.0",
            "_view_name": "ProgressView",
            "bar_style": "success",
            "description": "",
            "description_tooltip": null,
            "layout": "IPY_MODEL_789664913dc84d45a821118992176aeb",
            "max": 1629437147,
            "min": 0,
            "orientation": "horizontal",
            "style": "IPY_MODEL_7367db76b0a24a2f9011cf87141e6307",
            "value": 1629437147
          }
        },
        "074d4f31bcf842d9957093869f571e50": {
          "model_module": "@jupyter-widgets/controls",
          "model_module_version": "1.5.0",
          "model_name": "ProgressStyleModel",
          "state": {
            "_model_module": "@jupyter-widgets/controls",
            "_model_module_version": "1.5.0",
            "_model_name": "ProgressStyleModel",
            "_view_count": null,
            "_view_module": "@jupyter-widgets/base",
            "_view_module_version": "1.2.0",
            "_view_name": "StyleView",
            "bar_color": null,
            "description_width": ""
          }
        },
        "09e43650679a48f1978053ad0efb53c3": {
          "model_module": "@jupyter-widgets/base",
          "model_module_version": "1.2.0",
          "model_name": "LayoutModel",
          "state": {
            "_model_module": "@jupyter-widgets/base",
            "_model_module_version": "1.2.0",
            "_model_name": "LayoutModel",
            "_view_count": null,
            "_view_module": "@jupyter-widgets/base",
            "_view_module_version": "1.2.0",
            "_view_name": "LayoutView",
            "align_content": null,
            "align_items": null,
            "align_self": null,
            "border": null,
            "bottom": null,
            "display": null,
            "flex": null,
            "flex_flow": null,
            "grid_area": null,
            "grid_auto_columns": null,
            "grid_auto_flow": null,
            "grid_auto_rows": null,
            "grid_column": null,
            "grid_gap": null,
            "grid_row": null,
            "grid_template_areas": null,
            "grid_template_columns": null,
            "grid_template_rows": null,
            "height": null,
            "justify_content": null,
            "justify_items": null,
            "left": null,
            "margin": null,
            "max_height": null,
            "max_width": null,
            "min_height": null,
            "min_width": null,
            "object_fit": null,
            "object_position": null,
            "order": null,
            "overflow": null,
            "overflow_x": null,
            "overflow_y": null,
            "padding": null,
            "right": null,
            "top": null,
            "visibility": null,
            "width": null
          }
        },
        "0a4e275b62654d00be8f6a718bc4cd41": {
          "model_module": "@jupyter-widgets/base",
          "model_module_version": "1.2.0",
          "model_name": "LayoutModel",
          "state": {
            "_model_module": "@jupyter-widgets/base",
            "_model_module_version": "1.2.0",
            "_model_name": "LayoutModel",
            "_view_count": null,
            "_view_module": "@jupyter-widgets/base",
            "_view_module_version": "1.2.0",
            "_view_name": "LayoutView",
            "align_content": null,
            "align_items": null,
            "align_self": null,
            "border": null,
            "bottom": null,
            "display": null,
            "flex": null,
            "flex_flow": null,
            "grid_area": null,
            "grid_auto_columns": null,
            "grid_auto_flow": null,
            "grid_auto_rows": null,
            "grid_column": null,
            "grid_gap": null,
            "grid_row": null,
            "grid_template_areas": null,
            "grid_template_columns": null,
            "grid_template_rows": null,
            "height": null,
            "justify_content": null,
            "justify_items": null,
            "left": null,
            "margin": null,
            "max_height": null,
            "max_width": null,
            "min_height": null,
            "min_width": null,
            "object_fit": null,
            "object_position": null,
            "order": null,
            "overflow": null,
            "overflow_x": null,
            "overflow_y": null,
            "padding": null,
            "right": null,
            "top": null,
            "visibility": null,
            "width": null
          }
        },
        "0f1d4b6836a9468c9c8d549af921707f": {
          "model_module": "@jupyter-widgets/base",
          "model_module_version": "1.2.0",
          "model_name": "LayoutModel",
          "state": {
            "_model_module": "@jupyter-widgets/base",
            "_model_module_version": "1.2.0",
            "_model_name": "LayoutModel",
            "_view_count": null,
            "_view_module": "@jupyter-widgets/base",
            "_view_module_version": "1.2.0",
            "_view_name": "LayoutView",
            "align_content": null,
            "align_items": null,
            "align_self": null,
            "border": null,
            "bottom": null,
            "display": null,
            "flex": null,
            "flex_flow": null,
            "grid_area": null,
            "grid_auto_columns": null,
            "grid_auto_flow": null,
            "grid_auto_rows": null,
            "grid_column": null,
            "grid_gap": null,
            "grid_row": null,
            "grid_template_areas": null,
            "grid_template_columns": null,
            "grid_template_rows": null,
            "height": null,
            "justify_content": null,
            "justify_items": null,
            "left": null,
            "margin": null,
            "max_height": null,
            "max_width": null,
            "min_height": null,
            "min_width": null,
            "object_fit": null,
            "object_position": null,
            "order": null,
            "overflow": null,
            "overflow_x": null,
            "overflow_y": null,
            "padding": null,
            "right": null,
            "top": null,
            "visibility": null,
            "width": null
          }
        },
        "1545c96d67f74450a1a7f15446d4565a": {
          "model_module": "@jupyter-widgets/controls",
          "model_module_version": "1.5.0",
          "model_name": "DescriptionStyleModel",
          "state": {
            "_model_module": "@jupyter-widgets/controls",
            "_model_module_version": "1.5.0",
            "_model_name": "DescriptionStyleModel",
            "_view_count": null,
            "_view_module": "@jupyter-widgets/base",
            "_view_module_version": "1.2.0",
            "_view_name": "StyleView",
            "description_width": ""
          }
        },
        "1739b29815984ce79bd5802ad49b913c": {
          "model_module": "@jupyter-widgets/controls",
          "model_module_version": "1.5.0",
          "model_name": "HBoxModel",
          "state": {
            "_dom_classes": [],
            "_model_module": "@jupyter-widgets/controls",
            "_model_module_version": "1.5.0",
            "_model_name": "HBoxModel",
            "_view_count": null,
            "_view_module": "@jupyter-widgets/controls",
            "_view_module_version": "1.5.0",
            "_view_name": "HBoxView",
            "box_style": "",
            "children": [
              "IPY_MODEL_a39801e31110426faa9924061062fa80",
              "IPY_MODEL_0620f55213ef410db24e01e51ec8a3b8",
              "IPY_MODEL_b5fbe9227d60479eb16c9df7248979d6"
            ],
            "layout": "IPY_MODEL_abf65a190b3e47939e9e1f05c501500a"
          }
        },
        "2992f05aca9b4e3996eb0143de3be615": {
          "model_module": "@jupyter-widgets/controls",
          "model_module_version": "1.5.0",
          "model_name": "FloatProgressModel",
          "state": {
            "_dom_classes": [],
            "_model_module": "@jupyter-widgets/controls",
            "_model_module_version": "1.5.0",
            "_model_name": "FloatProgressModel",
            "_view_count": null,
            "_view_module": "@jupyter-widgets/controls",
            "_view_module_version": "1.5.0",
            "_view_name": "ProgressView",
            "bar_style": "success",
            "description": "",
            "description_tooltip": null,
            "layout": "IPY_MODEL_c60b14a3e7114c50822031a1c37316e0",
            "max": 456318,
            "min": 0,
            "orientation": "horizontal",
            "style": "IPY_MODEL_074d4f31bcf842d9957093869f571e50",
            "value": 456318
          }
        },
        "37ecc802e2fc4fbea649a90a00bd4fab": {
          "model_module": "@jupyter-widgets/base",
          "model_module_version": "1.2.0",
          "model_name": "LayoutModel",
          "state": {
            "_model_module": "@jupyter-widgets/base",
            "_model_module_version": "1.2.0",
            "_model_name": "LayoutModel",
            "_view_count": null,
            "_view_module": "@jupyter-widgets/base",
            "_view_module_version": "1.2.0",
            "_view_name": "LayoutView",
            "align_content": null,
            "align_items": null,
            "align_self": null,
            "border": null,
            "bottom": null,
            "display": null,
            "flex": null,
            "flex_flow": null,
            "grid_area": null,
            "grid_auto_columns": null,
            "grid_auto_flow": null,
            "grid_auto_rows": null,
            "grid_column": null,
            "grid_gap": null,
            "grid_row": null,
            "grid_template_areas": null,
            "grid_template_columns": null,
            "grid_template_rows": null,
            "height": null,
            "justify_content": null,
            "justify_items": null,
            "left": null,
            "margin": null,
            "max_height": null,
            "max_width": null,
            "min_height": null,
            "min_width": null,
            "object_fit": null,
            "object_position": null,
            "order": null,
            "overflow": null,
            "overflow_x": null,
            "overflow_y": null,
            "padding": null,
            "right": null,
            "top": null,
            "visibility": null,
            "width": null
          }
        },
        "4229c9d8b0e24a7ea642c22ff0b4d0a7": {
          "model_module": "@jupyter-widgets/controls",
          "model_module_version": "1.5.0",
          "model_name": "HTMLModel",
          "state": {
            "_dom_classes": [],
            "_model_module": "@jupyter-widgets/controls",
            "_model_module_version": "1.5.0",
            "_model_name": "HTMLModel",
            "_view_count": null,
            "_view_module": "@jupyter-widgets/controls",
            "_view_module_version": "1.5.0",
            "_view_name": "HTMLView",
            "description": "",
            "description_tooltip": null,
            "layout": "IPY_MODEL_fa18b62878bc45569449afd8939778e0",
            "placeholder": "​",
            "style": "IPY_MODEL_95693fac55f84ba89df0fe3cd1b43ca8",
            "value": " 899k/899k [00:00&lt;00:00, 4.52MB/s]"
          }
        },
        "4503c7e3e6144a50862f6638686bbf60": {
          "model_module": "@jupyter-widgets/controls",
          "model_module_version": "1.5.0",
          "model_name": "HBoxModel",
          "state": {
            "_dom_classes": [],
            "_model_module": "@jupyter-widgets/controls",
            "_model_module_version": "1.5.0",
            "_model_name": "HBoxModel",
            "_view_count": null,
            "_view_module": "@jupyter-widgets/controls",
            "_view_module_version": "1.5.0",
            "_view_name": "HBoxView",
            "box_style": "",
            "children": [
              "IPY_MODEL_b50761afc10344b49022ff7173d994df",
              "IPY_MODEL_6c14066b8d174866966f71d64cf1d5e4",
              "IPY_MODEL_e4f16c89cba84709a6d42884b2c1d584"
            ],
            "layout": "IPY_MODEL_003cd584dd3643c1987bbcd5ed5cd7ca"
          }
        },
        "4ba2b1cb68d74f709dd737dff44ec726": {
          "model_module": "@jupyter-widgets/controls",
          "model_module_version": "1.5.0",
          "model_name": "HBoxModel",
          "state": {
            "_dom_classes": [],
            "_model_module": "@jupyter-widgets/controls",
            "_model_module_version": "1.5.0",
            "_model_name": "HBoxModel",
            "_view_count": null,
            "_view_module": "@jupyter-widgets/controls",
            "_view_module_version": "1.5.0",
            "_view_name": "HBoxView",
            "box_style": "",
            "children": [
              "IPY_MODEL_95beb1df2f29459087136d5cba80acd9",
              "IPY_MODEL_8706b32a1858465c9e140da34774f6c9",
              "IPY_MODEL_832320ca5f044ed49f46923d4b5c336f"
            ],
            "layout": "IPY_MODEL_b9adbdf168d8442e81cb9b6cb3900501"
          }
        },
        "4feb66a538ea4302834f9c59218bf8d6": {
          "model_module": "@jupyter-widgets/controls",
          "model_module_version": "1.5.0",
          "model_name": "DescriptionStyleModel",
          "state": {
            "_model_module": "@jupyter-widgets/controls",
            "_model_module_version": "1.5.0",
            "_model_name": "DescriptionStyleModel",
            "_view_count": null,
            "_view_module": "@jupyter-widgets/base",
            "_view_module_version": "1.2.0",
            "_view_name": "StyleView",
            "description_width": ""
          }
        },
        "6bf0d0a604e445f8a29a515b3c8706c4": {
          "model_module": "@jupyter-widgets/controls",
          "model_module_version": "1.5.0",
          "model_name": "DescriptionStyleModel",
          "state": {
            "_model_module": "@jupyter-widgets/controls",
            "_model_module_version": "1.5.0",
            "_model_name": "DescriptionStyleModel",
            "_view_count": null,
            "_view_module": "@jupyter-widgets/base",
            "_view_module_version": "1.2.0",
            "_view_name": "StyleView",
            "description_width": ""
          }
        },
        "6c14066b8d174866966f71d64cf1d5e4": {
          "model_module": "@jupyter-widgets/controls",
          "model_module_version": "1.5.0",
          "model_name": "FloatProgressModel",
          "state": {
            "_dom_classes": [],
            "_model_module": "@jupyter-widgets/controls",
            "_model_module_version": "1.5.0",
            "_model_name": "FloatProgressModel",
            "_view_count": null,
            "_view_module": "@jupyter-widgets/controls",
            "_view_module_version": "1.5.0",
            "_view_name": "ProgressView",
            "bar_style": "success",
            "description": "",
            "description_tooltip": null,
            "layout": "IPY_MODEL_b08bbef517ac47d3819342401de9e671",
            "max": 26,
            "min": 0,
            "orientation": "horizontal",
            "style": "IPY_MODEL_84b1f01a5ddd4eb38a87bcf0391364ec",
            "value": 26
          }
        },
        "6d85b783f2044374ad2b6bad1a44acaa": {
          "model_module": "@jupyter-widgets/controls",
          "model_module_version": "1.5.0",
          "model_name": "HBoxModel",
          "state": {
            "_dom_classes": [],
            "_model_module": "@jupyter-widgets/controls",
            "_model_module_version": "1.5.0",
            "_model_name": "HBoxModel",
            "_view_count": null,
            "_view_module": "@jupyter-widgets/controls",
            "_view_module_version": "1.5.0",
            "_view_name": "HBoxView",
            "box_style": "",
            "children": [
              "IPY_MODEL_c58ed2af20394014af9bd0cb6dd80363",
              "IPY_MODEL_7b947b86e90d481284bff22e45fe679d",
              "IPY_MODEL_4229c9d8b0e24a7ea642c22ff0b4d0a7"
            ],
            "layout": "IPY_MODEL_831def60de4a41d1b3d89bbab006092a"
          }
        },
        "7014f93ff79243e6826aaf3ba2374bc9": {
          "model_module": "@jupyter-widgets/controls",
          "model_module_version": "1.5.0",
          "model_name": "HBoxModel",
          "state": {
            "_dom_classes": [],
            "_model_module": "@jupyter-widgets/controls",
            "_model_module_version": "1.5.0",
            "_model_name": "HBoxModel",
            "_view_count": null,
            "_view_module": "@jupyter-widgets/controls",
            "_view_module_version": "1.5.0",
            "_view_name": "HBoxView",
            "box_style": "",
            "children": [
              "IPY_MODEL_e5110a8a24e041c588ebce4bc1eef7b5",
              "IPY_MODEL_2992f05aca9b4e3996eb0143de3be615",
              "IPY_MODEL_ab32d4c8228c456fbbcbd769b3626764"
            ],
            "layout": "IPY_MODEL_09e43650679a48f1978053ad0efb53c3"
          }
        },
        "717016fe06204687895c5a3d466fd9c2": {
          "model_module": "@jupyter-widgets/controls",
          "model_module_version": "1.5.0",
          "model_name": "DescriptionStyleModel",
          "state": {
            "_model_module": "@jupyter-widgets/controls",
            "_model_module_version": "1.5.0",
            "_model_name": "DescriptionStyleModel",
            "_view_count": null,
            "_view_module": "@jupyter-widgets/base",
            "_view_module_version": "1.2.0",
            "_view_name": "StyleView",
            "description_width": ""
          }
        },
        "7367db76b0a24a2f9011cf87141e6307": {
          "model_module": "@jupyter-widgets/controls",
          "model_module_version": "1.5.0",
          "model_name": "ProgressStyleModel",
          "state": {
            "_model_module": "@jupyter-widgets/controls",
            "_model_module_version": "1.5.0",
            "_model_name": "ProgressStyleModel",
            "_view_count": null,
            "_view_module": "@jupyter-widgets/base",
            "_view_module_version": "1.2.0",
            "_view_name": "StyleView",
            "bar_color": null,
            "description_width": ""
          }
        },
        "77b0f9ac32084de3806a076bf1b3bf94": {
          "model_module": "@jupyter-widgets/controls",
          "model_module_version": "1.5.0",
          "model_name": "ProgressStyleModel",
          "state": {
            "_model_module": "@jupyter-widgets/controls",
            "_model_module_version": "1.5.0",
            "_model_name": "ProgressStyleModel",
            "_view_count": null,
            "_view_module": "@jupyter-widgets/base",
            "_view_module_version": "1.2.0",
            "_view_name": "StyleView",
            "bar_color": null,
            "description_width": ""
          }
        },
        "789664913dc84d45a821118992176aeb": {
          "model_module": "@jupyter-widgets/base",
          "model_module_version": "1.2.0",
          "model_name": "LayoutModel",
          "state": {
            "_model_module": "@jupyter-widgets/base",
            "_model_module_version": "1.2.0",
            "_model_name": "LayoutModel",
            "_view_count": null,
            "_view_module": "@jupyter-widgets/base",
            "_view_module_version": "1.2.0",
            "_view_name": "LayoutView",
            "align_content": null,
            "align_items": null,
            "align_self": null,
            "border": null,
            "bottom": null,
            "display": null,
            "flex": null,
            "flex_flow": null,
            "grid_area": null,
            "grid_auto_columns": null,
            "grid_auto_flow": null,
            "grid_auto_rows": null,
            "grid_column": null,
            "grid_gap": null,
            "grid_row": null,
            "grid_template_areas": null,
            "grid_template_columns": null,
            "grid_template_rows": null,
            "height": null,
            "justify_content": null,
            "justify_items": null,
            "left": null,
            "margin": null,
            "max_height": null,
            "max_width": null,
            "min_height": null,
            "min_width": null,
            "object_fit": null,
            "object_position": null,
            "order": null,
            "overflow": null,
            "overflow_x": null,
            "overflow_y": null,
            "padding": null,
            "right": null,
            "top": null,
            "visibility": null,
            "width": null
          }
        },
        "7b947b86e90d481284bff22e45fe679d": {
          "model_module": "@jupyter-widgets/controls",
          "model_module_version": "1.5.0",
          "model_name": "FloatProgressModel",
          "state": {
            "_dom_classes": [],
            "_model_module": "@jupyter-widgets/controls",
            "_model_module_version": "1.5.0",
            "_model_name": "FloatProgressModel",
            "_view_count": null,
            "_view_module": "@jupyter-widgets/controls",
            "_view_module_version": "1.5.0",
            "_view_name": "ProgressView",
            "bar_style": "success",
            "description": "",
            "description_tooltip": null,
            "layout": "IPY_MODEL_acb83848b8594fa88d38c4ded7b1d993",
            "max": 898822,
            "min": 0,
            "orientation": "horizontal",
            "style": "IPY_MODEL_9c427d9bc4ce4093941bc13644b6833d",
            "value": 898822
          }
        },
        "7bac93b049414f93a6d09ab7ab3a525e": {
          "model_module": "@jupyter-widgets/base",
          "model_module_version": "1.2.0",
          "model_name": "LayoutModel",
          "state": {
            "_model_module": "@jupyter-widgets/base",
            "_model_module_version": "1.2.0",
            "_model_name": "LayoutModel",
            "_view_count": null,
            "_view_module": "@jupyter-widgets/base",
            "_view_module_version": "1.2.0",
            "_view_name": "LayoutView",
            "align_content": null,
            "align_items": null,
            "align_self": null,
            "border": null,
            "bottom": null,
            "display": null,
            "flex": null,
            "flex_flow": null,
            "grid_area": null,
            "grid_auto_columns": null,
            "grid_auto_flow": null,
            "grid_auto_rows": null,
            "grid_column": null,
            "grid_gap": null,
            "grid_row": null,
            "grid_template_areas": null,
            "grid_template_columns": null,
            "grid_template_rows": null,
            "height": null,
            "justify_content": null,
            "justify_items": null,
            "left": null,
            "margin": null,
            "max_height": null,
            "max_width": null,
            "min_height": null,
            "min_width": null,
            "object_fit": null,
            "object_position": null,
            "order": null,
            "overflow": null,
            "overflow_x": null,
            "overflow_y": null,
            "padding": null,
            "right": null,
            "top": null,
            "visibility": null,
            "width": null
          }
        },
        "81238c0168b8422780751a4abaac6e18": {
          "model_module": "@jupyter-widgets/controls",
          "model_module_version": "1.5.0",
          "model_name": "HTMLModel",
          "state": {
            "_dom_classes": [],
            "_model_module": "@jupyter-widgets/controls",
            "_model_module_version": "1.5.0",
            "_model_name": "HTMLModel",
            "_view_count": null,
            "_view_module": "@jupyter-widgets/controls",
            "_view_module_version": "1.5.0",
            "_view_name": "HTMLView",
            "description": "",
            "description_tooltip": null,
            "layout": "IPY_MODEL_7bac93b049414f93a6d09ab7ab3a525e",
            "placeholder": "​",
            "style": "IPY_MODEL_e24c0f52b65b40a8b81c223f05cff3c6",
            "value": "config.json: 100%"
          }
        },
        "831def60de4a41d1b3d89bbab006092a": {
          "model_module": "@jupyter-widgets/base",
          "model_module_version": "1.2.0",
          "model_name": "LayoutModel",
          "state": {
            "_model_module": "@jupyter-widgets/base",
            "_model_module_version": "1.2.0",
            "_model_name": "LayoutModel",
            "_view_count": null,
            "_view_module": "@jupyter-widgets/base",
            "_view_module_version": "1.2.0",
            "_view_name": "LayoutView",
            "align_content": null,
            "align_items": null,
            "align_self": null,
            "border": null,
            "bottom": null,
            "display": null,
            "flex": null,
            "flex_flow": null,
            "grid_area": null,
            "grid_auto_columns": null,
            "grid_auto_flow": null,
            "grid_auto_rows": null,
            "grid_column": null,
            "grid_gap": null,
            "grid_row": null,
            "grid_template_areas": null,
            "grid_template_columns": null,
            "grid_template_rows": null,
            "height": null,
            "justify_content": null,
            "justify_items": null,
            "left": null,
            "margin": null,
            "max_height": null,
            "max_width": null,
            "min_height": null,
            "min_width": null,
            "object_fit": null,
            "object_position": null,
            "order": null,
            "overflow": null,
            "overflow_x": null,
            "overflow_y": null,
            "padding": null,
            "right": null,
            "top": null,
            "visibility": null,
            "width": null
          }
        },
        "832320ca5f044ed49f46923d4b5c336f": {
          "model_module": "@jupyter-widgets/controls",
          "model_module_version": "1.5.0",
          "model_name": "HTMLModel",
          "state": {
            "_dom_classes": [],
            "_model_module": "@jupyter-widgets/controls",
            "_model_module_version": "1.5.0",
            "_model_name": "HTMLModel",
            "_view_count": null,
            "_view_module": "@jupyter-widgets/controls",
            "_view_module_version": "1.5.0",
            "_view_name": "HTMLView",
            "description": "",
            "description_tooltip": null,
            "layout": "IPY_MODEL_e16aa201ef91459ba80e430891bfd329",
            "placeholder": "​",
            "style": "IPY_MODEL_4feb66a538ea4302834f9c59218bf8d6",
            "value": " 1.36M/1.36M [00:00&lt;00:00, 5.26MB/s]"
          }
        },
        "84b1f01a5ddd4eb38a87bcf0391364ec": {
          "model_module": "@jupyter-widgets/controls",
          "model_module_version": "1.5.0",
          "model_name": "ProgressStyleModel",
          "state": {
            "_model_module": "@jupyter-widgets/controls",
            "_model_module_version": "1.5.0",
            "_model_name": "ProgressStyleModel",
            "_view_count": null,
            "_view_module": "@jupyter-widgets/base",
            "_view_module_version": "1.2.0",
            "_view_name": "StyleView",
            "bar_color": null,
            "description_width": ""
          }
        },
        "86fc58a856754aa0b3366b29c76adf45": {
          "model_module": "@jupyter-widgets/base",
          "model_module_version": "1.2.0",
          "model_name": "LayoutModel",
          "state": {
            "_model_module": "@jupyter-widgets/base",
            "_model_module_version": "1.2.0",
            "_model_name": "LayoutModel",
            "_view_count": null,
            "_view_module": "@jupyter-widgets/base",
            "_view_module_version": "1.2.0",
            "_view_name": "LayoutView",
            "align_content": null,
            "align_items": null,
            "align_self": null,
            "border": null,
            "bottom": null,
            "display": null,
            "flex": null,
            "flex_flow": null,
            "grid_area": null,
            "grid_auto_columns": null,
            "grid_auto_flow": null,
            "grid_auto_rows": null,
            "grid_column": null,
            "grid_gap": null,
            "grid_row": null,
            "grid_template_areas": null,
            "grid_template_columns": null,
            "grid_template_rows": null,
            "height": null,
            "justify_content": null,
            "justify_items": null,
            "left": null,
            "margin": null,
            "max_height": null,
            "max_width": null,
            "min_height": null,
            "min_width": null,
            "object_fit": null,
            "object_position": null,
            "order": null,
            "overflow": null,
            "overflow_x": null,
            "overflow_y": null,
            "padding": null,
            "right": null,
            "top": null,
            "visibility": null,
            "width": null
          }
        },
        "8706b32a1858465c9e140da34774f6c9": {
          "model_module": "@jupyter-widgets/controls",
          "model_module_version": "1.5.0",
          "model_name": "FloatProgressModel",
          "state": {
            "_dom_classes": [],
            "_model_module": "@jupyter-widgets/controls",
            "_model_module_version": "1.5.0",
            "_model_name": "FloatProgressModel",
            "_view_count": null,
            "_view_module": "@jupyter-widgets/controls",
            "_view_module_version": "1.5.0",
            "_view_name": "ProgressView",
            "bar_style": "success",
            "description": "",
            "description_tooltip": null,
            "layout": "IPY_MODEL_d81b73e8714540d4b2d3b8dccf00a5c4",
            "max": 1355863,
            "min": 0,
            "orientation": "horizontal",
            "style": "IPY_MODEL_77b0f9ac32084de3806a076bf1b3bf94",
            "value": 1355863
          }
        },
        "8ecfb6cbbb4b429a9e4b80efc1287baf": {
          "model_module": "@jupyter-widgets/base",
          "model_module_version": "1.2.0",
          "model_name": "LayoutModel",
          "state": {
            "_model_module": "@jupyter-widgets/base",
            "_model_module_version": "1.2.0",
            "_model_name": "LayoutModel",
            "_view_count": null,
            "_view_module": "@jupyter-widgets/base",
            "_view_module_version": "1.2.0",
            "_view_name": "LayoutView",
            "align_content": null,
            "align_items": null,
            "align_self": null,
            "border": null,
            "bottom": null,
            "display": null,
            "flex": null,
            "flex_flow": null,
            "grid_area": null,
            "grid_auto_columns": null,
            "grid_auto_flow": null,
            "grid_auto_rows": null,
            "grid_column": null,
            "grid_gap": null,
            "grid_row": null,
            "grid_template_areas": null,
            "grid_template_columns": null,
            "grid_template_rows": null,
            "height": null,
            "justify_content": null,
            "justify_items": null,
            "left": null,
            "margin": null,
            "max_height": null,
            "max_width": null,
            "min_height": null,
            "min_width": null,
            "object_fit": null,
            "object_position": null,
            "order": null,
            "overflow": null,
            "overflow_x": null,
            "overflow_y": null,
            "padding": null,
            "right": null,
            "top": null,
            "visibility": null,
            "width": null
          }
        },
        "95693fac55f84ba89df0fe3cd1b43ca8": {
          "model_module": "@jupyter-widgets/controls",
          "model_module_version": "1.5.0",
          "model_name": "DescriptionStyleModel",
          "state": {
            "_model_module": "@jupyter-widgets/controls",
            "_model_module_version": "1.5.0",
            "_model_name": "DescriptionStyleModel",
            "_view_count": null,
            "_view_module": "@jupyter-widgets/base",
            "_view_module_version": "1.2.0",
            "_view_name": "StyleView",
            "description_width": ""
          }
        },
        "95beb1df2f29459087136d5cba80acd9": {
          "model_module": "@jupyter-widgets/controls",
          "model_module_version": "1.5.0",
          "model_name": "HTMLModel",
          "state": {
            "_dom_classes": [],
            "_model_module": "@jupyter-widgets/controls",
            "_model_module_version": "1.5.0",
            "_model_name": "HTMLModel",
            "_view_count": null,
            "_view_module": "@jupyter-widgets/controls",
            "_view_module_version": "1.5.0",
            "_view_name": "HTMLView",
            "description": "",
            "description_tooltip": null,
            "layout": "IPY_MODEL_86fc58a856754aa0b3366b29c76adf45",
            "placeholder": "​",
            "style": "IPY_MODEL_eb244cf2cd1e42278b1a9e6fa3d69d20",
            "value": "tokenizer.json: 100%"
          }
        },
        "9b9bd91da4c14a2dbc4664e287f85c85": {
          "model_module": "@jupyter-widgets/base",
          "model_module_version": "1.2.0",
          "model_name": "LayoutModel",
          "state": {
            "_model_module": "@jupyter-widgets/base",
            "_model_module_version": "1.2.0",
            "_model_name": "LayoutModel",
            "_view_count": null,
            "_view_module": "@jupyter-widgets/base",
            "_view_module_version": "1.2.0",
            "_view_name": "LayoutView",
            "align_content": null,
            "align_items": null,
            "align_self": null,
            "border": null,
            "bottom": null,
            "display": null,
            "flex": null,
            "flex_flow": null,
            "grid_area": null,
            "grid_auto_columns": null,
            "grid_auto_flow": null,
            "grid_auto_rows": null,
            "grid_column": null,
            "grid_gap": null,
            "grid_row": null,
            "grid_template_areas": null,
            "grid_template_columns": null,
            "grid_template_rows": null,
            "height": null,
            "justify_content": null,
            "justify_items": null,
            "left": null,
            "margin": null,
            "max_height": null,
            "max_width": null,
            "min_height": null,
            "min_width": null,
            "object_fit": null,
            "object_position": null,
            "order": null,
            "overflow": null,
            "overflow_x": null,
            "overflow_y": null,
            "padding": null,
            "right": null,
            "top": null,
            "visibility": null,
            "width": null
          }
        },
        "9c427d9bc4ce4093941bc13644b6833d": {
          "model_module": "@jupyter-widgets/controls",
          "model_module_version": "1.5.0",
          "model_name": "ProgressStyleModel",
          "state": {
            "_model_module": "@jupyter-widgets/controls",
            "_model_module_version": "1.5.0",
            "_model_name": "ProgressStyleModel",
            "_view_count": null,
            "_view_module": "@jupyter-widgets/base",
            "_view_module_version": "1.2.0",
            "_view_name": "StyleView",
            "bar_color": null,
            "description_width": ""
          }
        },
        "a25929343941433a99932832a8e50b1a": {
          "model_module": "@jupyter-widgets/controls",
          "model_module_version": "1.5.0",
          "model_name": "DescriptionStyleModel",
          "state": {
            "_model_module": "@jupyter-widgets/controls",
            "_model_module_version": "1.5.0",
            "_model_name": "DescriptionStyleModel",
            "_view_count": null,
            "_view_module": "@jupyter-widgets/base",
            "_view_module_version": "1.2.0",
            "_view_name": "StyleView",
            "description_width": ""
          }
        },
        "a39801e31110426faa9924061062fa80": {
          "model_module": "@jupyter-widgets/controls",
          "model_module_version": "1.5.0",
          "model_name": "HTMLModel",
          "state": {
            "_dom_classes": [],
            "_model_module": "@jupyter-widgets/controls",
            "_model_module_version": "1.5.0",
            "_model_name": "HTMLModel",
            "_view_count": null,
            "_view_module": "@jupyter-widgets/controls",
            "_view_module_version": "1.5.0",
            "_view_name": "HTMLView",
            "description": "",
            "description_tooltip": null,
            "layout": "IPY_MODEL_9b9bd91da4c14a2dbc4664e287f85c85",
            "placeholder": "​",
            "style": "IPY_MODEL_b6510a3817ae4358962d41be4ad56995",
            "value": "model.safetensors: 100%"
          }
        },
        "ab32d4c8228c456fbbcbd769b3626764": {
          "model_module": "@jupyter-widgets/controls",
          "model_module_version": "1.5.0",
          "model_name": "HTMLModel",
          "state": {
            "_dom_classes": [],
            "_model_module": "@jupyter-widgets/controls",
            "_model_module_version": "1.5.0",
            "_model_name": "HTMLModel",
            "_view_count": null,
            "_view_module": "@jupyter-widgets/controls",
            "_view_module_version": "1.5.0",
            "_view_name": "HTMLView",
            "description": "",
            "description_tooltip": null,
            "layout": "IPY_MODEL_e35e06ad6252467f874a02a2bb3d0d28",
            "placeholder": "​",
            "style": "IPY_MODEL_dff981f72c144a70ad48d1c5e920e7cb",
            "value": " 456k/456k [00:01&lt;00:00, 299kB/s]"
          }
        },
        "abbe1f8db0614089b04b18a3a50a0e86": {
          "model_module": "@jupyter-widgets/controls",
          "model_module_version": "1.5.0",
          "model_name": "DescriptionStyleModel",
          "state": {
            "_model_module": "@jupyter-widgets/controls",
            "_model_module_version": "1.5.0",
            "_model_name": "DescriptionStyleModel",
            "_view_count": null,
            "_view_module": "@jupyter-widgets/base",
            "_view_module_version": "1.2.0",
            "_view_name": "StyleView",
            "description_width": ""
          }
        },
        "abf65a190b3e47939e9e1f05c501500a": {
          "model_module": "@jupyter-widgets/base",
          "model_module_version": "1.2.0",
          "model_name": "LayoutModel",
          "state": {
            "_model_module": "@jupyter-widgets/base",
            "_model_module_version": "1.2.0",
            "_model_name": "LayoutModel",
            "_view_count": null,
            "_view_module": "@jupyter-widgets/base",
            "_view_module_version": "1.2.0",
            "_view_name": "LayoutView",
            "align_content": null,
            "align_items": null,
            "align_self": null,
            "border": null,
            "bottom": null,
            "display": null,
            "flex": null,
            "flex_flow": null,
            "grid_area": null,
            "grid_auto_columns": null,
            "grid_auto_flow": null,
            "grid_auto_rows": null,
            "grid_column": null,
            "grid_gap": null,
            "grid_row": null,
            "grid_template_areas": null,
            "grid_template_columns": null,
            "grid_template_rows": null,
            "height": null,
            "justify_content": null,
            "justify_items": null,
            "left": null,
            "margin": null,
            "max_height": null,
            "max_width": null,
            "min_height": null,
            "min_width": null,
            "object_fit": null,
            "object_position": null,
            "order": null,
            "overflow": null,
            "overflow_x": null,
            "overflow_y": null,
            "padding": null,
            "right": null,
            "top": null,
            "visibility": null,
            "width": null
          }
        },
        "acb83848b8594fa88d38c4ded7b1d993": {
          "model_module": "@jupyter-widgets/base",
          "model_module_version": "1.2.0",
          "model_name": "LayoutModel",
          "state": {
            "_model_module": "@jupyter-widgets/base",
            "_model_module_version": "1.2.0",
            "_model_name": "LayoutModel",
            "_view_count": null,
            "_view_module": "@jupyter-widgets/base",
            "_view_module_version": "1.2.0",
            "_view_name": "LayoutView",
            "align_content": null,
            "align_items": null,
            "align_self": null,
            "border": null,
            "bottom": null,
            "display": null,
            "flex": null,
            "flex_flow": null,
            "grid_area": null,
            "grid_auto_columns": null,
            "grid_auto_flow": null,
            "grid_auto_rows": null,
            "grid_column": null,
            "grid_gap": null,
            "grid_row": null,
            "grid_template_areas": null,
            "grid_template_columns": null,
            "grid_template_rows": null,
            "height": null,
            "justify_content": null,
            "justify_items": null,
            "left": null,
            "margin": null,
            "max_height": null,
            "max_width": null,
            "min_height": null,
            "min_width": null,
            "object_fit": null,
            "object_position": null,
            "order": null,
            "overflow": null,
            "overflow_x": null,
            "overflow_y": null,
            "padding": null,
            "right": null,
            "top": null,
            "visibility": null,
            "width": null
          }
        },
        "b08bbef517ac47d3819342401de9e671": {
          "model_module": "@jupyter-widgets/base",
          "model_module_version": "1.2.0",
          "model_name": "LayoutModel",
          "state": {
            "_model_module": "@jupyter-widgets/base",
            "_model_module_version": "1.2.0",
            "_model_name": "LayoutModel",
            "_view_count": null,
            "_view_module": "@jupyter-widgets/base",
            "_view_module_version": "1.2.0",
            "_view_name": "LayoutView",
            "align_content": null,
            "align_items": null,
            "align_self": null,
            "border": null,
            "bottom": null,
            "display": null,
            "flex": null,
            "flex_flow": null,
            "grid_area": null,
            "grid_auto_columns": null,
            "grid_auto_flow": null,
            "grid_auto_rows": null,
            "grid_column": null,
            "grid_gap": null,
            "grid_row": null,
            "grid_template_areas": null,
            "grid_template_columns": null,
            "grid_template_rows": null,
            "height": null,
            "justify_content": null,
            "justify_items": null,
            "left": null,
            "margin": null,
            "max_height": null,
            "max_width": null,
            "min_height": null,
            "min_width": null,
            "object_fit": null,
            "object_position": null,
            "order": null,
            "overflow": null,
            "overflow_x": null,
            "overflow_y": null,
            "padding": null,
            "right": null,
            "top": null,
            "visibility": null,
            "width": null
          }
        },
        "b26184f1f42c40fe8ba612fc9b723011": {
          "model_module": "@jupyter-widgets/base",
          "model_module_version": "1.2.0",
          "model_name": "LayoutModel",
          "state": {
            "_model_module": "@jupyter-widgets/base",
            "_model_module_version": "1.2.0",
            "_model_name": "LayoutModel",
            "_view_count": null,
            "_view_module": "@jupyter-widgets/base",
            "_view_module_version": "1.2.0",
            "_view_name": "LayoutView",
            "align_content": null,
            "align_items": null,
            "align_self": null,
            "border": null,
            "bottom": null,
            "display": null,
            "flex": null,
            "flex_flow": null,
            "grid_area": null,
            "grid_auto_columns": null,
            "grid_auto_flow": null,
            "grid_auto_rows": null,
            "grid_column": null,
            "grid_gap": null,
            "grid_row": null,
            "grid_template_areas": null,
            "grid_template_columns": null,
            "grid_template_rows": null,
            "height": null,
            "justify_content": null,
            "justify_items": null,
            "left": null,
            "margin": null,
            "max_height": null,
            "max_width": null,
            "min_height": null,
            "min_width": null,
            "object_fit": null,
            "object_position": null,
            "order": null,
            "overflow": null,
            "overflow_x": null,
            "overflow_y": null,
            "padding": null,
            "right": null,
            "top": null,
            "visibility": null,
            "width": null
          }
        },
        "b50761afc10344b49022ff7173d994df": {
          "model_module": "@jupyter-widgets/controls",
          "model_module_version": "1.5.0",
          "model_name": "HTMLModel",
          "state": {
            "_dom_classes": [],
            "_model_module": "@jupyter-widgets/controls",
            "_model_module_version": "1.5.0",
            "_model_name": "HTMLModel",
            "_view_count": null,
            "_view_module": "@jupyter-widgets/controls",
            "_view_module_version": "1.5.0",
            "_view_name": "HTMLView",
            "description": "",
            "description_tooltip": null,
            "layout": "IPY_MODEL_37ecc802e2fc4fbea649a90a00bd4fab",
            "placeholder": "​",
            "style": "IPY_MODEL_c5e6876d48c4428d86bb7aa31cad456f",
            "value": "tokenizer_config.json: 100%"
          }
        },
        "b5fbe9227d60479eb16c9df7248979d6": {
          "model_module": "@jupyter-widgets/controls",
          "model_module_version": "1.5.0",
          "model_name": "HTMLModel",
          "state": {
            "_dom_classes": [],
            "_model_module": "@jupyter-widgets/controls",
            "_model_module_version": "1.5.0",
            "_model_name": "HTMLModel",
            "_view_count": null,
            "_view_module": "@jupyter-widgets/controls",
            "_view_module_version": "1.5.0",
            "_view_name": "HTMLView",
            "description": "",
            "description_tooltip": null,
            "layout": "IPY_MODEL_ec2c211b31c141e39cb0793cd92aa9dd",
            "placeholder": "​",
            "style": "IPY_MODEL_1545c96d67f74450a1a7f15446d4565a",
            "value": " 1.63G/1.63G [00:20&lt;00:00, 141MB/s]"
          }
        },
        "b6510a3817ae4358962d41be4ad56995": {
          "model_module": "@jupyter-widgets/controls",
          "model_module_version": "1.5.0",
          "model_name": "DescriptionStyleModel",
          "state": {
            "_model_module": "@jupyter-widgets/controls",
            "_model_module_version": "1.5.0",
            "_model_name": "DescriptionStyleModel",
            "_view_count": null,
            "_view_module": "@jupyter-widgets/base",
            "_view_module_version": "1.2.0",
            "_view_name": "StyleView",
            "description_width": ""
          }
        },
        "b9adbdf168d8442e81cb9b6cb3900501": {
          "model_module": "@jupyter-widgets/base",
          "model_module_version": "1.2.0",
          "model_name": "LayoutModel",
          "state": {
            "_model_module": "@jupyter-widgets/base",
            "_model_module_version": "1.2.0",
            "_model_name": "LayoutModel",
            "_view_count": null,
            "_view_module": "@jupyter-widgets/base",
            "_view_module_version": "1.2.0",
            "_view_name": "LayoutView",
            "align_content": null,
            "align_items": null,
            "align_self": null,
            "border": null,
            "bottom": null,
            "display": null,
            "flex": null,
            "flex_flow": null,
            "grid_area": null,
            "grid_auto_columns": null,
            "grid_auto_flow": null,
            "grid_auto_rows": null,
            "grid_column": null,
            "grid_gap": null,
            "grid_row": null,
            "grid_template_areas": null,
            "grid_template_columns": null,
            "grid_template_rows": null,
            "height": null,
            "justify_content": null,
            "justify_items": null,
            "left": null,
            "margin": null,
            "max_height": null,
            "max_width": null,
            "min_height": null,
            "min_width": null,
            "object_fit": null,
            "object_position": null,
            "order": null,
            "overflow": null,
            "overflow_x": null,
            "overflow_y": null,
            "padding": null,
            "right": null,
            "top": null,
            "visibility": null,
            "width": null
          }
        },
        "c253d8b10bb64cadbeba516ea2d62b3b": {
          "model_module": "@jupyter-widgets/controls",
          "model_module_version": "1.5.0",
          "model_name": "HBoxModel",
          "state": {
            "_dom_classes": [],
            "_model_module": "@jupyter-widgets/controls",
            "_model_module_version": "1.5.0",
            "_model_name": "HBoxModel",
            "_view_count": null,
            "_view_module": "@jupyter-widgets/controls",
            "_view_module_version": "1.5.0",
            "_view_name": "HBoxView",
            "box_style": "",
            "children": [
              "IPY_MODEL_81238c0168b8422780751a4abaac6e18",
              "IPY_MODEL_dc45e0334a48448eb68e9c9278bc0b59",
              "IPY_MODEL_f4746fc3e7c64a68bd20121e0d12736a"
            ],
            "layout": "IPY_MODEL_d35cf72e09f640ca9025d1b773629b8e"
          }
        },
        "c52b779dc17d41c89c4f66957e4297b7": {
          "model_module": "@jupyter-widgets/controls",
          "model_module_version": "1.5.0",
          "model_name": "ProgressStyleModel",
          "state": {
            "_model_module": "@jupyter-widgets/controls",
            "_model_module_version": "1.5.0",
            "_model_name": "ProgressStyleModel",
            "_view_count": null,
            "_view_module": "@jupyter-widgets/base",
            "_view_module_version": "1.2.0",
            "_view_name": "StyleView",
            "bar_color": null,
            "description_width": ""
          }
        },
        "c58ed2af20394014af9bd0cb6dd80363": {
          "model_module": "@jupyter-widgets/controls",
          "model_module_version": "1.5.0",
          "model_name": "HTMLModel",
          "state": {
            "_dom_classes": [],
            "_model_module": "@jupyter-widgets/controls",
            "_model_module_version": "1.5.0",
            "_model_name": "HTMLModel",
            "_view_count": null,
            "_view_module": "@jupyter-widgets/controls",
            "_view_module_version": "1.5.0",
            "_view_name": "HTMLView",
            "description": "",
            "description_tooltip": null,
            "layout": "IPY_MODEL_b26184f1f42c40fe8ba612fc9b723011",
            "placeholder": "​",
            "style": "IPY_MODEL_6bf0d0a604e445f8a29a515b3c8706c4",
            "value": "vocab.json: 100%"
          }
        },
        "c5e6876d48c4428d86bb7aa31cad456f": {
          "model_module": "@jupyter-widgets/controls",
          "model_module_version": "1.5.0",
          "model_name": "DescriptionStyleModel",
          "state": {
            "_model_module": "@jupyter-widgets/controls",
            "_model_module_version": "1.5.0",
            "_model_name": "DescriptionStyleModel",
            "_view_count": null,
            "_view_module": "@jupyter-widgets/base",
            "_view_module_version": "1.2.0",
            "_view_name": "StyleView",
            "description_width": ""
          }
        },
        "c60b14a3e7114c50822031a1c37316e0": {
          "model_module": "@jupyter-widgets/base",
          "model_module_version": "1.2.0",
          "model_name": "LayoutModel",
          "state": {
            "_model_module": "@jupyter-widgets/base",
            "_model_module_version": "1.2.0",
            "_model_name": "LayoutModel",
            "_view_count": null,
            "_view_module": "@jupyter-widgets/base",
            "_view_module_version": "1.2.0",
            "_view_name": "LayoutView",
            "align_content": null,
            "align_items": null,
            "align_self": null,
            "border": null,
            "bottom": null,
            "display": null,
            "flex": null,
            "flex_flow": null,
            "grid_area": null,
            "grid_auto_columns": null,
            "grid_auto_flow": null,
            "grid_auto_rows": null,
            "grid_column": null,
            "grid_gap": null,
            "grid_row": null,
            "grid_template_areas": null,
            "grid_template_columns": null,
            "grid_template_rows": null,
            "height": null,
            "justify_content": null,
            "justify_items": null,
            "left": null,
            "margin": null,
            "max_height": null,
            "max_width": null,
            "min_height": null,
            "min_width": null,
            "object_fit": null,
            "object_position": null,
            "order": null,
            "overflow": null,
            "overflow_x": null,
            "overflow_y": null,
            "padding": null,
            "right": null,
            "top": null,
            "visibility": null,
            "width": null
          }
        },
        "d35cf72e09f640ca9025d1b773629b8e": {
          "model_module": "@jupyter-widgets/base",
          "model_module_version": "1.2.0",
          "model_name": "LayoutModel",
          "state": {
            "_model_module": "@jupyter-widgets/base",
            "_model_module_version": "1.2.0",
            "_model_name": "LayoutModel",
            "_view_count": null,
            "_view_module": "@jupyter-widgets/base",
            "_view_module_version": "1.2.0",
            "_view_name": "LayoutView",
            "align_content": null,
            "align_items": null,
            "align_self": null,
            "border": null,
            "bottom": null,
            "display": null,
            "flex": null,
            "flex_flow": null,
            "grid_area": null,
            "grid_auto_columns": null,
            "grid_auto_flow": null,
            "grid_auto_rows": null,
            "grid_column": null,
            "grid_gap": null,
            "grid_row": null,
            "grid_template_areas": null,
            "grid_template_columns": null,
            "grid_template_rows": null,
            "height": null,
            "justify_content": null,
            "justify_items": null,
            "left": null,
            "margin": null,
            "max_height": null,
            "max_width": null,
            "min_height": null,
            "min_width": null,
            "object_fit": null,
            "object_position": null,
            "order": null,
            "overflow": null,
            "overflow_x": null,
            "overflow_y": null,
            "padding": null,
            "right": null,
            "top": null,
            "visibility": null,
            "width": null
          }
        },
        "d81b73e8714540d4b2d3b8dccf00a5c4": {
          "model_module": "@jupyter-widgets/base",
          "model_module_version": "1.2.0",
          "model_name": "LayoutModel",
          "state": {
            "_model_module": "@jupyter-widgets/base",
            "_model_module_version": "1.2.0",
            "_model_name": "LayoutModel",
            "_view_count": null,
            "_view_module": "@jupyter-widgets/base",
            "_view_module_version": "1.2.0",
            "_view_name": "LayoutView",
            "align_content": null,
            "align_items": null,
            "align_self": null,
            "border": null,
            "bottom": null,
            "display": null,
            "flex": null,
            "flex_flow": null,
            "grid_area": null,
            "grid_auto_columns": null,
            "grid_auto_flow": null,
            "grid_auto_rows": null,
            "grid_column": null,
            "grid_gap": null,
            "grid_row": null,
            "grid_template_areas": null,
            "grid_template_columns": null,
            "grid_template_rows": null,
            "height": null,
            "justify_content": null,
            "justify_items": null,
            "left": null,
            "margin": null,
            "max_height": null,
            "max_width": null,
            "min_height": null,
            "min_width": null,
            "object_fit": null,
            "object_position": null,
            "order": null,
            "overflow": null,
            "overflow_x": null,
            "overflow_y": null,
            "padding": null,
            "right": null,
            "top": null,
            "visibility": null,
            "width": null
          }
        },
        "dc45e0334a48448eb68e9c9278bc0b59": {
          "model_module": "@jupyter-widgets/controls",
          "model_module_version": "1.5.0",
          "model_name": "FloatProgressModel",
          "state": {
            "_dom_classes": [],
            "_model_module": "@jupyter-widgets/controls",
            "_model_module_version": "1.5.0",
            "_model_name": "FloatProgressModel",
            "_view_count": null,
            "_view_module": "@jupyter-widgets/controls",
            "_view_module_version": "1.5.0",
            "_view_name": "ProgressView",
            "bar_style": "success",
            "description": "",
            "description_tooltip": null,
            "layout": "IPY_MODEL_0f1d4b6836a9468c9c8d549af921707f",
            "max": 1154,
            "min": 0,
            "orientation": "horizontal",
            "style": "IPY_MODEL_c52b779dc17d41c89c4f66957e4297b7",
            "value": 1154
          }
        },
        "dff981f72c144a70ad48d1c5e920e7cb": {
          "model_module": "@jupyter-widgets/controls",
          "model_module_version": "1.5.0",
          "model_name": "DescriptionStyleModel",
          "state": {
            "_model_module": "@jupyter-widgets/controls",
            "_model_module_version": "1.5.0",
            "_model_name": "DescriptionStyleModel",
            "_view_count": null,
            "_view_module": "@jupyter-widgets/base",
            "_view_module_version": "1.2.0",
            "_view_name": "StyleView",
            "description_width": ""
          }
        },
        "e16aa201ef91459ba80e430891bfd329": {
          "model_module": "@jupyter-widgets/base",
          "model_module_version": "1.2.0",
          "model_name": "LayoutModel",
          "state": {
            "_model_module": "@jupyter-widgets/base",
            "_model_module_version": "1.2.0",
            "_model_name": "LayoutModel",
            "_view_count": null,
            "_view_module": "@jupyter-widgets/base",
            "_view_module_version": "1.2.0",
            "_view_name": "LayoutView",
            "align_content": null,
            "align_items": null,
            "align_self": null,
            "border": null,
            "bottom": null,
            "display": null,
            "flex": null,
            "flex_flow": null,
            "grid_area": null,
            "grid_auto_columns": null,
            "grid_auto_flow": null,
            "grid_auto_rows": null,
            "grid_column": null,
            "grid_gap": null,
            "grid_row": null,
            "grid_template_areas": null,
            "grid_template_columns": null,
            "grid_template_rows": null,
            "height": null,
            "justify_content": null,
            "justify_items": null,
            "left": null,
            "margin": null,
            "max_height": null,
            "max_width": null,
            "min_height": null,
            "min_width": null,
            "object_fit": null,
            "object_position": null,
            "order": null,
            "overflow": null,
            "overflow_x": null,
            "overflow_y": null,
            "padding": null,
            "right": null,
            "top": null,
            "visibility": null,
            "width": null
          }
        },
        "e24c0f52b65b40a8b81c223f05cff3c6": {
          "model_module": "@jupyter-widgets/controls",
          "model_module_version": "1.5.0",
          "model_name": "DescriptionStyleModel",
          "state": {
            "_model_module": "@jupyter-widgets/controls",
            "_model_module_version": "1.5.0",
            "_model_name": "DescriptionStyleModel",
            "_view_count": null,
            "_view_module": "@jupyter-widgets/base",
            "_view_module_version": "1.2.0",
            "_view_name": "StyleView",
            "description_width": ""
          }
        },
        "e35e06ad6252467f874a02a2bb3d0d28": {
          "model_module": "@jupyter-widgets/base",
          "model_module_version": "1.2.0",
          "model_name": "LayoutModel",
          "state": {
            "_model_module": "@jupyter-widgets/base",
            "_model_module_version": "1.2.0",
            "_model_name": "LayoutModel",
            "_view_count": null,
            "_view_module": "@jupyter-widgets/base",
            "_view_module_version": "1.2.0",
            "_view_name": "LayoutView",
            "align_content": null,
            "align_items": null,
            "align_self": null,
            "border": null,
            "bottom": null,
            "display": null,
            "flex": null,
            "flex_flow": null,
            "grid_area": null,
            "grid_auto_columns": null,
            "grid_auto_flow": null,
            "grid_auto_rows": null,
            "grid_column": null,
            "grid_gap": null,
            "grid_row": null,
            "grid_template_areas": null,
            "grid_template_columns": null,
            "grid_template_rows": null,
            "height": null,
            "justify_content": null,
            "justify_items": null,
            "left": null,
            "margin": null,
            "max_height": null,
            "max_width": null,
            "min_height": null,
            "min_width": null,
            "object_fit": null,
            "object_position": null,
            "order": null,
            "overflow": null,
            "overflow_x": null,
            "overflow_y": null,
            "padding": null,
            "right": null,
            "top": null,
            "visibility": null,
            "width": null
          }
        },
        "e4f16c89cba84709a6d42884b2c1d584": {
          "model_module": "@jupyter-widgets/controls",
          "model_module_version": "1.5.0",
          "model_name": "HTMLModel",
          "state": {
            "_dom_classes": [],
            "_model_module": "@jupyter-widgets/controls",
            "_model_module_version": "1.5.0",
            "_model_name": "HTMLModel",
            "_view_count": null,
            "_view_module": "@jupyter-widgets/controls",
            "_view_module_version": "1.5.0",
            "_view_name": "HTMLView",
            "description": "",
            "description_tooltip": null,
            "layout": "IPY_MODEL_f2759b68d0db43dd9cfeedba0bac6cf8",
            "placeholder": "​",
            "style": "IPY_MODEL_abbe1f8db0614089b04b18a3a50a0e86",
            "value": " 26.0/26.0 [00:00&lt;00:00, 234B/s]"
          }
        },
        "e5110a8a24e041c588ebce4bc1eef7b5": {
          "model_module": "@jupyter-widgets/controls",
          "model_module_version": "1.5.0",
          "model_name": "HTMLModel",
          "state": {
            "_dom_classes": [],
            "_model_module": "@jupyter-widgets/controls",
            "_model_module_version": "1.5.0",
            "_model_name": "HTMLModel",
            "_view_count": null,
            "_view_module": "@jupyter-widgets/controls",
            "_view_module_version": "1.5.0",
            "_view_name": "HTMLView",
            "description": "",
            "description_tooltip": null,
            "layout": "IPY_MODEL_0a4e275b62654d00be8f6a718bc4cd41",
            "placeholder": "​",
            "style": "IPY_MODEL_717016fe06204687895c5a3d466fd9c2",
            "value": "merges.txt: 100%"
          }
        },
        "eb244cf2cd1e42278b1a9e6fa3d69d20": {
          "model_module": "@jupyter-widgets/controls",
          "model_module_version": "1.5.0",
          "model_name": "DescriptionStyleModel",
          "state": {
            "_model_module": "@jupyter-widgets/controls",
            "_model_module_version": "1.5.0",
            "_model_name": "DescriptionStyleModel",
            "_view_count": null,
            "_view_module": "@jupyter-widgets/base",
            "_view_module_version": "1.2.0",
            "_view_name": "StyleView",
            "description_width": ""
          }
        },
        "ec2c211b31c141e39cb0793cd92aa9dd": {
          "model_module": "@jupyter-widgets/base",
          "model_module_version": "1.2.0",
          "model_name": "LayoutModel",
          "state": {
            "_model_module": "@jupyter-widgets/base",
            "_model_module_version": "1.2.0",
            "_model_name": "LayoutModel",
            "_view_count": null,
            "_view_module": "@jupyter-widgets/base",
            "_view_module_version": "1.2.0",
            "_view_name": "LayoutView",
            "align_content": null,
            "align_items": null,
            "align_self": null,
            "border": null,
            "bottom": null,
            "display": null,
            "flex": null,
            "flex_flow": null,
            "grid_area": null,
            "grid_auto_columns": null,
            "grid_auto_flow": null,
            "grid_auto_rows": null,
            "grid_column": null,
            "grid_gap": null,
            "grid_row": null,
            "grid_template_areas": null,
            "grid_template_columns": null,
            "grid_template_rows": null,
            "height": null,
            "justify_content": null,
            "justify_items": null,
            "left": null,
            "margin": null,
            "max_height": null,
            "max_width": null,
            "min_height": null,
            "min_width": null,
            "object_fit": null,
            "object_position": null,
            "order": null,
            "overflow": null,
            "overflow_x": null,
            "overflow_y": null,
            "padding": null,
            "right": null,
            "top": null,
            "visibility": null,
            "width": null
          }
        },
        "f2759b68d0db43dd9cfeedba0bac6cf8": {
          "model_module": "@jupyter-widgets/base",
          "model_module_version": "1.2.0",
          "model_name": "LayoutModel",
          "state": {
            "_model_module": "@jupyter-widgets/base",
            "_model_module_version": "1.2.0",
            "_model_name": "LayoutModel",
            "_view_count": null,
            "_view_module": "@jupyter-widgets/base",
            "_view_module_version": "1.2.0",
            "_view_name": "LayoutView",
            "align_content": null,
            "align_items": null,
            "align_self": null,
            "border": null,
            "bottom": null,
            "display": null,
            "flex": null,
            "flex_flow": null,
            "grid_area": null,
            "grid_auto_columns": null,
            "grid_auto_flow": null,
            "grid_auto_rows": null,
            "grid_column": null,
            "grid_gap": null,
            "grid_row": null,
            "grid_template_areas": null,
            "grid_template_columns": null,
            "grid_template_rows": null,
            "height": null,
            "justify_content": null,
            "justify_items": null,
            "left": null,
            "margin": null,
            "max_height": null,
            "max_width": null,
            "min_height": null,
            "min_width": null,
            "object_fit": null,
            "object_position": null,
            "order": null,
            "overflow": null,
            "overflow_x": null,
            "overflow_y": null,
            "padding": null,
            "right": null,
            "top": null,
            "visibility": null,
            "width": null
          }
        },
        "f4746fc3e7c64a68bd20121e0d12736a": {
          "model_module": "@jupyter-widgets/controls",
          "model_module_version": "1.5.0",
          "model_name": "HTMLModel",
          "state": {
            "_dom_classes": [],
            "_model_module": "@jupyter-widgets/controls",
            "_model_module_version": "1.5.0",
            "_model_name": "HTMLModel",
            "_view_count": null,
            "_view_module": "@jupyter-widgets/controls",
            "_view_module_version": "1.5.0",
            "_view_name": "HTMLView",
            "description": "",
            "description_tooltip": null,
            "layout": "IPY_MODEL_8ecfb6cbbb4b429a9e4b80efc1287baf",
            "placeholder": "​",
            "style": "IPY_MODEL_a25929343941433a99932832a8e50b1a",
            "value": " 1.15k/1.15k [00:00&lt;00:00, 26.8kB/s]"
          }
        },
        "fa18b62878bc45569449afd8939778e0": {
          "model_module": "@jupyter-widgets/base",
          "model_module_version": "1.2.0",
          "model_name": "LayoutModel",
          "state": {
            "_model_module": "@jupyter-widgets/base",
            "_model_module_version": "1.2.0",
            "_model_name": "LayoutModel",
            "_view_count": null,
            "_view_module": "@jupyter-widgets/base",
            "_view_module_version": "1.2.0",
            "_view_name": "LayoutView",
            "align_content": null,
            "align_items": null,
            "align_self": null,
            "border": null,
            "bottom": null,
            "display": null,
            "flex": null,
            "flex_flow": null,
            "grid_area": null,
            "grid_auto_columns": null,
            "grid_auto_flow": null,
            "grid_auto_rows": null,
            "grid_column": null,
            "grid_gap": null,
            "grid_row": null,
            "grid_template_areas": null,
            "grid_template_columns": null,
            "grid_template_rows": null,
            "height": null,
            "justify_content": null,
            "justify_items": null,
            "left": null,
            "margin": null,
            "max_height": null,
            "max_width": null,
            "min_height": null,
            "min_width": null,
            "object_fit": null,
            "object_position": null,
            "order": null,
            "overflow": null,
            "overflow_x": null,
            "overflow_y": null,
            "padding": null,
            "right": null,
            "top": null,
            "visibility": null,
            "width": null
          }
        }
      }
    }
  },
  "nbformat": 4,
  "nbformat_minor": 0
}
